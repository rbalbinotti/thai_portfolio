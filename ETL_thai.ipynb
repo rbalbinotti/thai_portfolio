{
 "cells": [
  {
   "cell_type": "markdown",
   "id": "3d5a8655",
   "metadata": {},
   "source": [
    "# Criação de Portfólio - Thai House\n",
    "Casa de eventos do grupo koh Pee Pee\n",
    "   * Organização e limpeza dos dados\n",
    "   * Dados a partir de abril de 2022"
   ]
  },
  {
   "cell_type": "markdown",
   "id": "dac4c95b-fc68-4b17-a4cb-fe7c8fe638dc",
   "metadata": {},
   "source": [
    "##### Import"
   ]
  },
  {
   "cell_type": "code",
   "execution_count": 109,
   "id": "d51b4839",
   "metadata": {
    "tags": []
   },
   "outputs": [],
   "source": [
    "from datetime import date as dt\n",
    "import re\n",
    "import numpy as np\n",
    "import pandas as pd"
   ]
  },
  {
   "cell_type": "markdown",
   "id": "7720a57d-bc05-414d-85b3-204c14c24750",
   "metadata": {},
   "source": [
    "##### Funções"
   ]
  },
  {
   "cell_type": "code",
   "execution_count": 110,
   "id": "d23cf87d",
   "metadata": {
    "tags": []
   },
   "outputs": [],
   "source": [
    "col_padrao = {\n",
    "    'Convidados': 'num_convidados',\n",
    "    'Convidados Efetivos': 'qtde_conv_final',\n",
    "    'Forma de pagamento': 'forma_pag'\n",
    " }\n",
    "\n",
    "\n",
    "# Tratando colunas\n",
    "def colunas_lower_replace(x):\n",
    "    '''\n",
    "    Remomeia colunas e troca espaço por underline.\n",
    "    '''\n",
    "    x.rename(columns=col_padrao, inplace=True)\n",
    "    x.columns = x.columns.str.lower().str.replace(' ', '_')\n",
    "    return\n",
    "\n",
    "\n",
    "# Tratando espaços em branco\n",
    "def whitespace_remover(dataframe):\n",
    "    '''\n",
    "    Retira estaços em branco do dataframe.\n",
    "    '''\n",
    "    # iterating over the columns\n",
    "    for i in dataframe:\n",
    "        # checking datatype of each columns\n",
    "        if dataframe[i].dtypes == 'object':\n",
    "\n",
    "            # applying strip function on column\n",
    "            dataframe[i] = dataframe[i].str.strip()\n",
    "        else:\n",
    "            # if condn. is False then it will do nothing.\n",
    "            pass"
   ]
  },
  {
   "cell_type": "markdown",
   "id": "7659fbdd-deb7-4542-aaf7-e31d38b28934",
   "metadata": {},
   "source": [
    "### Load"
   ]
  },
  {
   "cell_type": "code",
   "execution_count": 111,
   "id": "74cc2b8b",
   "metadata": {
    "tags": []
   },
   "outputs": [],
   "source": [
    "caminho = r'./dados/rel_eventos.xlsx'\n",
    "caminho2 = r'./dados/antes_abril_2022.xlsx'\n",
    "caminho3 = r'./dados/rel_eventos_2023.xlsx'\n",
    "\n",
    "# retorna um dict\n",
    "dicio22 = pd.read_excel(\n",
    "    caminho, [\"abril\", \"maio\", \"junho\", \"julho\", \"agosto\", \"setembro\",\n",
    "              \"outubro\", \"novembro\", \"dezembro\"],\n",
    "    index_col=None, na_values=[\"NA\"]\n",
    "    )\n",
    "\n",
    "dicio23 = pd.read_excel(caminho3,\n",
    "                        ['Jan', 'Fev', 'Mar', 'Abr',\n",
    "                         'Mai', 'Jun', 'Jul', 'Ago',\n",
    "                         'Set', 'Out', 'Nov', 'Dez'],\n",
    "                        index_col=None, na_values=['NA'])\n",
    "\n",
    "df_ant_abr22 = pd.read_excel(caminho2)"
   ]
  },
  {
   "cell_type": "code",
   "execution_count": 112,
   "id": "1a45bf44",
   "metadata": {
    "tags": []
   },
   "outputs": [
    {
     "data": {
      "text/plain": [
       "dict"
      ]
     },
     "execution_count": 112,
     "metadata": {},
     "output_type": "execute_result"
    }
   ],
   "source": [
    "type(dicio22)"
   ]
  },
  {
   "cell_type": "code",
   "execution_count": 113,
   "id": "ae8429e0",
   "metadata": {
    "tags": []
   },
   "outputs": [
    {
     "data": {
      "text/html": [
       "<div>\n",
       "<style scoped>\n",
       "    .dataframe tbody tr th:only-of-type {\n",
       "        vertical-align: middle;\n",
       "    }\n",
       "\n",
       "    .dataframe tbody tr th {\n",
       "        vertical-align: top;\n",
       "    }\n",
       "\n",
       "    .dataframe thead th {\n",
       "        text-align: right;\n",
       "    }\n",
       "</style>\n",
       "<table border=\"1\" class=\"dataframe\">\n",
       "  <thead>\n",
       "    <tr style=\"text-align: right;\">\n",
       "      <th></th>\n",
       "      <th>Data contato</th>\n",
       "      <th>Etapa</th>\n",
       "      <th>Situação</th>\n",
       "      <th>Data Evento</th>\n",
       "      <th>Tipo</th>\n",
       "      <th>Convidados</th>\n",
       "      <th>Cardápio</th>\n",
       "      <th>Preço</th>\n",
       "      <th>Sinal</th>\n",
       "      <th>Valor total</th>\n",
       "      <th>Saldo restante</th>\n",
       "      <th>Valor Extra</th>\n",
       "      <th>Forma de pagamento</th>\n",
       "      <th>Observação</th>\n",
       "    </tr>\n",
       "  </thead>\n",
       "  <tbody>\n",
       "    <tr>\n",
       "      <th>0</th>\n",
       "      <td>EVENTOS FECHADOS</td>\n",
       "      <td>NaN</td>\n",
       "      <td>NaN</td>\n",
       "      <td>NaT</td>\n",
       "      <td>NaN</td>\n",
       "      <td>NaN</td>\n",
       "      <td>NaN</td>\n",
       "      <td>NaN</td>\n",
       "      <td>NaN</td>\n",
       "      <td>NaN</td>\n",
       "      <td>NaN</td>\n",
       "      <td>NaN</td>\n",
       "      <td>NaN</td>\n",
       "      <td>NaN</td>\n",
       "    </tr>\n",
       "    <tr>\n",
       "      <th>1</th>\n",
       "      <td>2022-04-01 00:00:00</td>\n",
       "      <td>Realizado</td>\n",
       "      <td>Realizado</td>\n",
       "      <td>2022-04-11</td>\n",
       "      <td>NaN</td>\n",
       "      <td>40.0</td>\n",
       "      <td>NaN</td>\n",
       "      <td>220.0</td>\n",
       "      <td>1200.0</td>\n",
       "      <td>9787.0</td>\n",
       "      <td>8587.0</td>\n",
       "      <td>987.0</td>\n",
       "      <td>NaN</td>\n",
       "      <td>Fez uma pré-reserva, quer serviço desde a entr...</td>\n",
       "    </tr>\n",
       "    <tr>\n",
       "      <th>2</th>\n",
       "      <td>2022-04-09 00:00:00</td>\n",
       "      <td>Realizado</td>\n",
       "      <td>Realizado</td>\n",
       "      <td>2022-04-28</td>\n",
       "      <td>NaN</td>\n",
       "      <td>30.0</td>\n",
       "      <td>NaN</td>\n",
       "      <td>230.0</td>\n",
       "      <td>NaN</td>\n",
       "      <td>6900.0</td>\n",
       "      <td>6900.0</td>\n",
       "      <td>NaN</td>\n",
       "      <td>NaN</td>\n",
       "      <td>Aula ao vivo, vai precisar de aparelhos de aúd...</td>\n",
       "    </tr>\n",
       "  </tbody>\n",
       "</table>\n",
       "</div>"
      ],
      "text/plain": [
       "          Data contato      Etapa   Situação Data Evento Tipo  Convidados  \\\n",
       "0     EVENTOS FECHADOS        NaN        NaN         NaT  NaN         NaN   \n",
       "1  2022-04-01 00:00:00  Realizado  Realizado  2022-04-11  NaN        40.0   \n",
       "2  2022-04-09 00:00:00  Realizado  Realizado  2022-04-28  NaN        30.0   \n",
       "\n",
       "   Cardápio  Preço   Sinal  Valor total  Saldo restante  Valor Extra  \\\n",
       "0       NaN    NaN     NaN          NaN             NaN          NaN   \n",
       "1       NaN  220.0  1200.0       9787.0          8587.0        987.0   \n",
       "2       NaN  230.0     NaN       6900.0          6900.0          NaN   \n",
       "\n",
       "   Forma de pagamento                                         Observação  \n",
       "0                 NaN                                                NaN  \n",
       "1                 NaN  Fez uma pré-reserva, quer serviço desde a entr...  \n",
       "2                 NaN  Aula ao vivo, vai precisar de aparelhos de aúd...  "
      ]
     },
     "execution_count": 113,
     "metadata": {},
     "output_type": "execute_result"
    }
   ],
   "source": [
    "# pegar a sheet do dict e transformar em Dataframe\n",
    "dicio22.get('abril').head(3)"
   ]
  },
  {
   "cell_type": "code",
   "execution_count": 114,
   "id": "396d3255-597f-436f-8930-6f9628533286",
   "metadata": {
    "tags": []
   },
   "outputs": [
    {
     "data": {
      "text/html": [
       "<div>\n",
       "<style scoped>\n",
       "    .dataframe tbody tr th:only-of-type {\n",
       "        vertical-align: middle;\n",
       "    }\n",
       "\n",
       "    .dataframe tbody tr th {\n",
       "        vertical-align: top;\n",
       "    }\n",
       "\n",
       "    .dataframe thead th {\n",
       "        text-align: right;\n",
       "    }\n",
       "</style>\n",
       "<table border=\"1\" class=\"dataframe\">\n",
       "  <thead>\n",
       "    <tr style=\"text-align: right;\">\n",
       "      <th></th>\n",
       "      <th>Data contato</th>\n",
       "      <th>Etapa</th>\n",
       "      <th>Situação</th>\n",
       "      <th>Data Evento</th>\n",
       "      <th>Tipo</th>\n",
       "      <th>Empresa</th>\n",
       "      <th>Contato</th>\n",
       "      <th>Telefone</th>\n",
       "      <th>Email</th>\n",
       "      <th>Convidados</th>\n",
       "      <th>...</th>\n",
       "      <th>Kids</th>\n",
       "      <th>Preço Kids</th>\n",
       "      <th>Total Convidados</th>\n",
       "      <th>Sinal</th>\n",
       "      <th>Valor total</th>\n",
       "      <th>Saldo restante</th>\n",
       "      <th>Valor Extra</th>\n",
       "      <th>Convidados Efetivos</th>\n",
       "      <th>Forma de pagamento</th>\n",
       "      <th>Observação</th>\n",
       "    </tr>\n",
       "  </thead>\n",
       "  <tbody>\n",
       "    <tr>\n",
       "      <th>0</th>\n",
       "      <td>EVENTOS FECHADOS</td>\n",
       "      <td>NaN</td>\n",
       "      <td>NaN</td>\n",
       "      <td>NaT</td>\n",
       "      <td>NaN</td>\n",
       "      <td>NaN</td>\n",
       "      <td>NaN</td>\n",
       "      <td>NaN</td>\n",
       "      <td>NaN</td>\n",
       "      <td>NaN</td>\n",
       "      <td>...</td>\n",
       "      <td>NaN</td>\n",
       "      <td>NaN</td>\n",
       "      <td>NaN</td>\n",
       "      <td>NaN</td>\n",
       "      <td>NaN</td>\n",
       "      <td>NaN</td>\n",
       "      <td>NaN</td>\n",
       "      <td>NaN</td>\n",
       "      <td>NaN</td>\n",
       "      <td>NaN</td>\n",
       "    </tr>\n",
       "    <tr>\n",
       "      <th>1</th>\n",
       "      <td>2022-10-17 00:00:00</td>\n",
       "      <td>Realizado</td>\n",
       "      <td>Realizado</td>\n",
       "      <td>2023-01-28</td>\n",
       "      <td>Jantar Formatura</td>\n",
       "      <td>Lisandra Lain Schneider</td>\n",
       "      <td>Lisandra Lain Schneider</td>\n",
       "      <td>51-99983.5577</td>\n",
       "      <td>NaN</td>\n",
       "      <td>53.0</td>\n",
       "      <td>...</td>\n",
       "      <td>NaN</td>\n",
       "      <td>NaN</td>\n",
       "      <td>NaN</td>\n",
       "      <td>NaN</td>\n",
       "      <td>18025.0</td>\n",
       "      <td>18025.0</td>\n",
       "      <td>1330.0</td>\n",
       "      <td>NaN</td>\n",
       "      <td>Entrada de 30% pago em Pix em 24/10/22 e dia 2...</td>\n",
       "      <td>Festa de formatura do Luca \\n</td>\n",
       "    </tr>\n",
       "    <tr>\n",
       "      <th>2</th>\n",
       "      <td>2023-12-20 00:00:00</td>\n",
       "      <td>Realizado</td>\n",
       "      <td>Realizado</td>\n",
       "      <td>2023-01-25</td>\n",
       "      <td>Jantar divulgação</td>\n",
       "      <td>Evento divulgação  Thai House</td>\n",
       "      <td>Audrey</td>\n",
       "      <td>51-98137.3968</td>\n",
       "      <td>NaN</td>\n",
       "      <td>30.0</td>\n",
       "      <td>...</td>\n",
       "      <td>NaN</td>\n",
       "      <td>NaN</td>\n",
       "      <td>30.0</td>\n",
       "      <td>NaN</td>\n",
       "      <td>3350.0</td>\n",
       "      <td>3350.0</td>\n",
       "      <td>800.0</td>\n",
       "      <td>NaN</td>\n",
       "      <td>Custo casa</td>\n",
       "      <td>Jantar para um grupo de relações públicas e ce...</td>\n",
       "    </tr>\n",
       "  </tbody>\n",
       "</table>\n",
       "<p>3 rows × 22 columns</p>\n",
       "</div>"
      ],
      "text/plain": [
       "          Data contato      Etapa   Situação Data Evento               Tipo  \\\n",
       "0     EVENTOS FECHADOS        NaN        NaN         NaT                NaN   \n",
       "1  2022-10-17 00:00:00  Realizado  Realizado  2023-01-28   Jantar Formatura   \n",
       "2  2023-12-20 00:00:00  Realizado  Realizado  2023-01-25  Jantar divulgação   \n",
       "\n",
       "                         Empresa                  Contato       Telefone  \\\n",
       "0                            NaN                      NaN            NaN   \n",
       "1        Lisandra Lain Schneider  Lisandra Lain Schneider  51-99983.5577   \n",
       "2  Evento divulgação  Thai House                   Audrey  51-98137.3968   \n",
       "\n",
       "  Email  Convidados  ... Kids  Preço Kids  Total Convidados  Sinal  \\\n",
       "0   NaN         NaN  ...  NaN         NaN               NaN    NaN   \n",
       "1   NaN        53.0  ...  NaN         NaN               NaN    NaN   \n",
       "2   NaN        30.0  ...  NaN         NaN              30.0    NaN   \n",
       "\n",
       "   Valor total  Saldo restante  Valor Extra  Convidados Efetivos  \\\n",
       "0          NaN             NaN          NaN                  NaN   \n",
       "1      18025.0         18025.0       1330.0                  NaN   \n",
       "2       3350.0          3350.0        800.0                  NaN   \n",
       "\n",
       "                                  Forma de pagamento  \\\n",
       "0                                                NaN   \n",
       "1  Entrada de 30% pago em Pix em 24/10/22 e dia 2...   \n",
       "2                                        Custo casa    \n",
       "\n",
       "                                          Observação  \n",
       "0                                                NaN  \n",
       "1                     Festa de formatura do Luca \\n   \n",
       "2  Jantar para um grupo de relações públicas e ce...  \n",
       "\n",
       "[3 rows x 22 columns]"
      ]
     },
     "execution_count": 114,
     "metadata": {},
     "output_type": "execute_result"
    }
   ],
   "source": [
    "dicio23.get('Jan').head(3)"
   ]
  },
  {
   "cell_type": "code",
   "execution_count": 115,
   "id": "d46d21cb-27dc-4bc1-b7a5-ccc494aa9319",
   "metadata": {},
   "outputs": [
    {
     "data": {
      "text/html": [
       "<div>\n",
       "<style scoped>\n",
       "    .dataframe tbody tr th:only-of-type {\n",
       "        vertical-align: middle;\n",
       "    }\n",
       "\n",
       "    .dataframe tbody tr th {\n",
       "        vertical-align: top;\n",
       "    }\n",
       "\n",
       "    .dataframe thead th {\n",
       "        text-align: right;\n",
       "    }\n",
       "</style>\n",
       "<table border=\"1\" class=\"dataframe\">\n",
       "  <thead>\n",
       "    <tr style=\"text-align: right;\">\n",
       "      <th></th>\n",
       "      <th>data_evento</th>\n",
       "      <th>etapa</th>\n",
       "      <th>data_contato</th>\n",
       "      <th>tipo</th>\n",
       "      <th>valor_total</th>\n",
       "      <th>num_convidados</th>\n",
       "      <th>observação</th>\n",
       "      <th>preço</th>\n",
       "    </tr>\n",
       "  </thead>\n",
       "  <tbody>\n",
       "    <tr>\n",
       "      <th>0</th>\n",
       "      <td>2018-01-19</td>\n",
       "      <td>Não fechado</td>\n",
       "      <td>2018-01-19</td>\n",
       "      <td>formatura</td>\n",
       "      <td>6789.0</td>\n",
       "      <td>30</td>\n",
       "      <td>Optou por uma pizzaria</td>\n",
       "      <td>219</td>\n",
       "    </tr>\n",
       "    <tr>\n",
       "      <th>1</th>\n",
       "      <td>2018-01-26</td>\n",
       "      <td>Não fechado</td>\n",
       "      <td>2018-01-26</td>\n",
       "      <td>formatura</td>\n",
       "      <td>6789.0</td>\n",
       "      <td>70</td>\n",
       "      <td>Queria acomodar todos para jantar no mesmo andar</td>\n",
       "      <td>219</td>\n",
       "    </tr>\n",
       "    <tr>\n",
       "      <th>2</th>\n",
       "      <td>2018-02-08</td>\n",
       "      <td>Não fechado</td>\n",
       "      <td>2018-02-08</td>\n",
       "      <td>formatura</td>\n",
       "      <td>6789.0</td>\n",
       "      <td>80</td>\n",
       "      <td>queria esta data mas já estamos com ela certa ...</td>\n",
       "      <td>219</td>\n",
       "    </tr>\n",
       "    <tr>\n",
       "      <th>3</th>\n",
       "      <td>2018-06-09</td>\n",
       "      <td>Não fechado</td>\n",
       "      <td>2018-06-09</td>\n",
       "      <td>empresarial</td>\n",
       "      <td>6789.0</td>\n",
       "      <td>31</td>\n",
       "      <td>não fechou por orçamento</td>\n",
       "      <td>219</td>\n",
       "    </tr>\n",
       "    <tr>\n",
       "      <th>4</th>\n",
       "      <td>2018-06-12</td>\n",
       "      <td>Realizado</td>\n",
       "      <td>2018-06-12</td>\n",
       "      <td>1º evento</td>\n",
       "      <td>21450.4</td>\n",
       "      <td>78</td>\n",
       "      <td>1 mesa de 8  lugares+ 5 mesas de 4 lugares + 2...</td>\n",
       "      <td>275</td>\n",
       "    </tr>\n",
       "  </tbody>\n",
       "</table>\n",
       "</div>"
      ],
      "text/plain": [
       "  data_evento        etapa data_contato         tipo  valor_total  \\\n",
       "0  2018-01-19  Não fechado   2018-01-19    formatura       6789.0   \n",
       "1  2018-01-26  Não fechado   2018-01-26    formatura       6789.0   \n",
       "2  2018-02-08  Não fechado   2018-02-08    formatura       6789.0   \n",
       "3  2018-06-09  Não fechado   2018-06-09  empresarial       6789.0   \n",
       "4  2018-06-12    Realizado   2018-06-12    1º evento      21450.4   \n",
       "\n",
       "   num_convidados                                         observação  preço  \n",
       "0              30                             Optou por uma pizzaria    219  \n",
       "1              70   Queria acomodar todos para jantar no mesmo andar    219  \n",
       "2              80  queria esta data mas já estamos com ela certa ...    219  \n",
       "3              31                           não fechou por orçamento    219  \n",
       "4              78  1 mesa de 8  lugares+ 5 mesas de 4 lugares + 2...    275  "
      ]
     },
     "execution_count": 115,
     "metadata": {},
     "output_type": "execute_result"
    }
   ],
   "source": [
    "df_ant_abr22.head()"
   ]
  },
  {
   "cell_type": "markdown",
   "id": "0c8c4214",
   "metadata": {},
   "source": [
    "### Transformar dicionários em DF"
   ]
  },
  {
   "cell_type": "code",
   "execution_count": 116,
   "id": "d676612f",
   "metadata": {
    "tags": []
   },
   "outputs": [],
   "source": [
    "df22 = pd.DataFrame()\n",
    "\n",
    "for i in dicio22:\n",
    "    # print(i)\n",
    "    # nome_df = 'df_' + i[:3]\n",
    "    temp = dicio22.get(i)\n",
    "    df22 = pd.concat([df22, temp], join='outer', ignore_index=True)"
   ]
  },
  {
   "cell_type": "code",
   "execution_count": 117,
   "id": "93927665-fda4-426c-9721-51f555041d60",
   "metadata": {
    "tags": []
   },
   "outputs": [],
   "source": [
    "df23 = pd.DataFrame()\n",
    "\n",
    "for i in dicio23:\n",
    "    # print(i)\n",
    "    # nome_df = 'df_' + i[:3]\n",
    "    temp = dicio23.get(i)\n",
    "    df23 = pd.concat([df23, temp], join='outer', ignore_index=True)"
   ]
  },
  {
   "cell_type": "code",
   "execution_count": 118,
   "id": "9b10b3f9",
   "metadata": {
    "tags": []
   },
   "outputs": [
    {
     "name": "stdout",
     "output_type": "stream",
     "text": [
      "<class 'pandas.core.frame.DataFrame'>\n",
      "RangeIndex: 193 entries, 0 to 192\n",
      "Data columns (total 18 columns):\n",
      " #   Column               Non-Null Count  Dtype  \n",
      "---  ------               --------------  -----  \n",
      " 0   Data contato         143 non-null    object \n",
      " 1   Etapa                117 non-null    object \n",
      " 2   Situação             111 non-null    object \n",
      " 3   Data Evento          117 non-null    object \n",
      " 4   Tipo                 115 non-null    object \n",
      " 5   Convidados           116 non-null    float64\n",
      " 6   Cardápio             78 non-null     object \n",
      " 7   Preço                73 non-null     object \n",
      " 8   Sinal                3 non-null      float64\n",
      " 9   Valor total          144 non-null    float64\n",
      " 10  Saldo restante       142 non-null    object \n",
      " 11  Valor Extra          36 non-null     float64\n",
      " 12  Forma de pagamento   66 non-null     object \n",
      " 13  Observação           116 non-null    object \n",
      " 14  Kids                 1 non-null      float64\n",
      " 15  Preço Kids           1 non-null      float64\n",
      " 16  Total Convidados     74 non-null     float64\n",
      " 17  Convidados Efetivos  3 non-null      float64\n",
      "dtypes: float64(8), object(10)\n",
      "memory usage: 27.3+ KB\n"
     ]
    }
   ],
   "source": [
    "df22.info()"
   ]
  },
  {
   "cell_type": "code",
   "execution_count": 119,
   "id": "686ee698-e5de-46f5-9d96-8d0a7a61292f",
   "metadata": {
    "tags": []
   },
   "outputs": [
    {
     "name": "stdout",
     "output_type": "stream",
     "text": [
      "<class 'pandas.core.frame.DataFrame'>\n",
      "RangeIndex: 276 entries, 0 to 275\n",
      "Data columns (total 22 columns):\n",
      " #   Column               Non-Null Count  Dtype  \n",
      "---  ------               --------------  -----  \n",
      " 0   Data contato         106 non-null    object \n",
      " 1   Etapa                68 non-null     object \n",
      " 2   Situação             66 non-null     object \n",
      " 3   Data Evento          66 non-null     object \n",
      " 4   Tipo                 68 non-null     object \n",
      " 5   Empresa              67 non-null     object \n",
      " 6   Contato              67 non-null     object \n",
      " 7   Telefone             64 non-null     object \n",
      " 8   Email                4 non-null      object \n",
      " 9   Convidados           67 non-null     float64\n",
      " 10  Cardápio             30 non-null     object \n",
      " 11  Preço                28 non-null     float64\n",
      " 12  Kids                 1 non-null      float64\n",
      " 13  Preço Kids           1 non-null      float64\n",
      " 14  Total Convidados     222 non-null    float64\n",
      " 15  Sinal                0 non-null      float64\n",
      " 16  Valor total          216 non-null    float64\n",
      " 17  Saldo restante       216 non-null    float64\n",
      " 18  Valor Extra          9 non-null      float64\n",
      " 19  Convidados Efetivos  0 non-null      float64\n",
      " 20  Forma de pagamento   24 non-null     object \n",
      " 21  Observação           69 non-null     object \n",
      "dtypes: float64(10), object(12)\n",
      "memory usage: 47.6+ KB\n"
     ]
    }
   ],
   "source": [
    "df23.info()"
   ]
  },
  {
   "cell_type": "markdown",
   "id": "46f0d2b9-b648-4961-abc8-153f9fdbeeb0",
   "metadata": {},
   "source": [
    "## Concat DataFrames"
   ]
  },
  {
   "cell_type": "code",
   "execution_count": 120,
   "id": "1aa5a936-066f-4052-a634-bb705f501566",
   "metadata": {
    "tags": []
   },
   "outputs": [],
   "source": [
    "df = pd.concat([df22, df23], ignore_index=True)"
   ]
  },
  {
   "cell_type": "code",
   "execution_count": 121,
   "id": "280e77c2",
   "metadata": {
    "tags": []
   },
   "outputs": [],
   "source": [
    "# renomeando colunas\n",
    "colunas_lower_replace(df)"
   ]
  },
  {
   "cell_type": "code",
   "execution_count": 122,
   "id": "d7184269-420d-4ce9-8307-93b86febe99c",
   "metadata": {
    "tags": []
   },
   "outputs": [
    {
     "data": {
      "text/plain": [
       "Index(['data_contato', 'etapa', 'situação', 'data_evento', 'tipo',\n",
       "       'num_convidados', 'cardápio', 'preço', 'sinal', 'valor_total',\n",
       "       'saldo_restante', 'valor_extra', 'forma_pag', 'observação', 'kids',\n",
       "       'preço_kids', 'total_convidados', 'qtde_conv_final', 'empresa',\n",
       "       'contato', 'telefone', 'email'],\n",
       "      dtype='object')"
      ]
     },
     "execution_count": 122,
     "metadata": {},
     "output_type": "execute_result"
    }
   ],
   "source": [
    "df.columns"
   ]
  },
  {
   "cell_type": "markdown",
   "id": "764a5adf",
   "metadata": {},
   "source": [
    "### Tratando tipo"
   ]
  },
  {
   "cell_type": "code",
   "execution_count": 123,
   "id": "3670a46e",
   "metadata": {
    "tags": []
   },
   "outputs": [],
   "source": [
    "# Data\n",
    "df['data_contato'] = pd.to_datetime(df['data_contato'], errors='coerce')\n",
    "df['data_evento'] = pd.to_datetime(df['data_evento'], errors='coerce')"
   ]
  },
  {
   "cell_type": "code",
   "execution_count": 124,
   "id": "f806dfd9",
   "metadata": {
    "tags": []
   },
   "outputs": [],
   "source": [
    "# drop colunas que serão calculadas automaticamente\n",
    "df.drop(columns=['total_convidados', 'saldo_restante', 'valor_total'],\n",
    "        inplace=True)"
   ]
  },
  {
   "cell_type": "code",
   "execution_count": 125,
   "id": "b83fd670",
   "metadata": {
    "tags": []
   },
   "outputs": [],
   "source": [
    "# drop rows all null\n",
    "df.dropna(how='all', inplace=True)"
   ]
  },
  {
   "cell_type": "code",
   "execution_count": 126,
   "id": "7cc0cc50-5436-4046-9da0-4f88ffd90dc0",
   "metadata": {
    "tags": []
   },
   "outputs": [
    {
     "data": {
      "text/plain": [
       "data_contato         8\n",
       "etapa                4\n",
       "situação            12\n",
       "data_evento         10\n",
       "tipo                 6\n",
       "num_convidados       6\n",
       "cardápio            81\n",
       "preço               88\n",
       "sinal              186\n",
       "valor_extra        144\n",
       "forma_pag           99\n",
       "observação           4\n",
       "kids               187\n",
       "preço_kids         187\n",
       "qtde_conv_final    186\n",
       "empresa            122\n",
       "contato            122\n",
       "telefone           125\n",
       "email              185\n",
       "dtype: int64"
      ]
     },
     "execution_count": 126,
     "metadata": {},
     "output_type": "execute_result"
    }
   ],
   "source": [
    "df.isna().sum()"
   ]
  },
  {
   "cell_type": "code",
   "execution_count": 127,
   "id": "f8443da2-d48e-4829-b3f7-cac74aee205d",
   "metadata": {
    "tags": []
   },
   "outputs": [
    {
     "data": {
      "text/html": [
       "<div>\n",
       "<style scoped>\n",
       "    .dataframe tbody tr th:only-of-type {\n",
       "        vertical-align: middle;\n",
       "    }\n",
       "\n",
       "    .dataframe tbody tr th {\n",
       "        vertical-align: top;\n",
       "    }\n",
       "\n",
       "    .dataframe thead th {\n",
       "        text-align: right;\n",
       "    }\n",
       "</style>\n",
       "<table border=\"1\" class=\"dataframe\">\n",
       "  <thead>\n",
       "    <tr style=\"text-align: right;\">\n",
       "      <th></th>\n",
       "      <th>data_contato</th>\n",
       "      <th>etapa</th>\n",
       "      <th>situação</th>\n",
       "      <th>data_evento</th>\n",
       "      <th>tipo</th>\n",
       "      <th>num_convidados</th>\n",
       "      <th>cardápio</th>\n",
       "      <th>preço</th>\n",
       "      <th>sinal</th>\n",
       "      <th>valor_extra</th>\n",
       "      <th>forma_pag</th>\n",
       "      <th>observação</th>\n",
       "      <th>kids</th>\n",
       "      <th>preço_kids</th>\n",
       "      <th>qtde_conv_final</th>\n",
       "      <th>empresa</th>\n",
       "      <th>contato</th>\n",
       "      <th>telefone</th>\n",
       "      <th>email</th>\n",
       "    </tr>\n",
       "  </thead>\n",
       "  <tbody>\n",
       "    <tr>\n",
       "      <th>21</th>\n",
       "      <td>NaT</td>\n",
       "      <td>NaN</td>\n",
       "      <td>NaN</td>\n",
       "      <td>NaT</td>\n",
       "      <td>NaN</td>\n",
       "      <td>NaN</td>\n",
       "      <td>NaN</td>\n",
       "      <td>NaN</td>\n",
       "      <td>NaN</td>\n",
       "      <td>NaN</td>\n",
       "      <td>NaN</td>\n",
       "      <td>Jantar, necessita  de audio , telão, microfone...</td>\n",
       "      <td>NaN</td>\n",
       "      <td>NaN</td>\n",
       "      <td>NaN</td>\n",
       "      <td>NaN</td>\n",
       "      <td>NaN</td>\n",
       "      <td>NaN</td>\n",
       "      <td>NaN</td>\n",
       "    </tr>\n",
       "    <tr>\n",
       "      <th>56</th>\n",
       "      <td>NaT</td>\n",
       "      <td>NaN</td>\n",
       "      <td>NaN</td>\n",
       "      <td>NaT</td>\n",
       "      <td>NaN</td>\n",
       "      <td>NaN</td>\n",
       "      <td>A definir</td>\n",
       "      <td>NaN</td>\n",
       "      <td>NaN</td>\n",
       "      <td>NaN</td>\n",
       "      <td>NaN</td>\n",
       "      <td>NaN</td>\n",
       "      <td>NaN</td>\n",
       "      <td>NaN</td>\n",
       "      <td>NaN</td>\n",
       "      <td>NaN</td>\n",
       "      <td>NaN</td>\n",
       "      <td>NaN</td>\n",
       "      <td>NaN</td>\n",
       "    </tr>\n",
       "    <tr>\n",
       "      <th>183</th>\n",
       "      <td>NaT</td>\n",
       "      <td>NaN</td>\n",
       "      <td>NaN</td>\n",
       "      <td>NaT</td>\n",
       "      <td>NaN</td>\n",
       "      <td>NaN</td>\n",
       "      <td>NaN</td>\n",
       "      <td></td>\n",
       "      <td>NaN</td>\n",
       "      <td>NaN</td>\n",
       "      <td>NaN</td>\n",
       "      <td>NaN</td>\n",
       "      <td>NaN</td>\n",
       "      <td>NaN</td>\n",
       "      <td>NaN</td>\n",
       "      <td>NaN</td>\n",
       "      <td>NaN</td>\n",
       "      <td>NaN</td>\n",
       "      <td>NaN</td>\n",
       "    </tr>\n",
       "    <tr>\n",
       "      <th>373</th>\n",
       "      <td>NaT</td>\n",
       "      <td>NaN</td>\n",
       "      <td>NaN</td>\n",
       "      <td>NaT</td>\n",
       "      <td>NaN</td>\n",
       "      <td>NaN</td>\n",
       "      <td>NaN</td>\n",
       "      <td>NaN</td>\n",
       "      <td>NaN</td>\n",
       "      <td>NaN</td>\n",
       "      <td>NaN</td>\n",
       "      <td></td>\n",
       "      <td>NaN</td>\n",
       "      <td>NaN</td>\n",
       "      <td>NaN</td>\n",
       "      <td>NaN</td>\n",
       "      <td>NaN</td>\n",
       "      <td>NaN</td>\n",
       "      <td>NaN</td>\n",
       "    </tr>\n",
       "  </tbody>\n",
       "</table>\n",
       "</div>"
      ],
      "text/plain": [
       "    data_contato etapa situação data_evento tipo  num_convidados   cardápio  \\\n",
       "21           NaT   NaN      NaN         NaT  NaN             NaN        NaN   \n",
       "56           NaT   NaN      NaN         NaT  NaN             NaN  A definir   \n",
       "183          NaT   NaN      NaN         NaT  NaN             NaN        NaN   \n",
       "373          NaT   NaN      NaN         NaT  NaN             NaN        NaN   \n",
       "\n",
       "    preço  sinal  valor_extra forma_pag  \\\n",
       "21    NaN    NaN          NaN       NaN   \n",
       "56    NaN    NaN          NaN       NaN   \n",
       "183          NaN          NaN       NaN   \n",
       "373   NaN    NaN          NaN       NaN   \n",
       "\n",
       "                                            observação  kids  preço_kids  \\\n",
       "21   Jantar, necessita  de audio , telão, microfone...   NaN         NaN   \n",
       "56                                                 NaN   NaN         NaN   \n",
       "183                                                NaN   NaN         NaN   \n",
       "373                                                      NaN         NaN   \n",
       "\n",
       "     qtde_conv_final empresa contato telefone email  \n",
       "21               NaN     NaN     NaN      NaN   NaN  \n",
       "56               NaN     NaN     NaN      NaN   NaN  \n",
       "183              NaN     NaN     NaN      NaN   NaN  \n",
       "373              NaN     NaN     NaN      NaN   NaN  "
      ]
     },
     "execution_count": 127,
     "metadata": {},
     "output_type": "execute_result"
    }
   ],
   "source": [
    "df[df['etapa'].isna()]"
   ]
  },
  {
   "cell_type": "code",
   "execution_count": 128,
   "id": "aeaf6bdc-f4d0-4cb7-8fb8-f827e8fc5cdb",
   "metadata": {
    "tags": []
   },
   "outputs": [],
   "source": [
    "df.dropna(subset=['etapa'], inplace=True)"
   ]
  },
  {
   "cell_type": "markdown",
   "id": "47e4ff8e",
   "metadata": {},
   "source": [
    "### Tratando valores nulos"
   ]
  },
  {
   "cell_type": "code",
   "execution_count": 129,
   "id": "b98cf67e",
   "metadata": {
    "tags": []
   },
   "outputs": [],
   "source": [
    "df['data_contato'] = df.data_contato.fillna(df.data_evento)\n",
    "\n",
    "dia = dt.today() + pd.DateOffset(days=20)\n",
    "df['data_evento'] = df.data_evento.fillna(dia)"
   ]
  },
  {
   "cell_type": "code",
   "execution_count": 130,
   "id": "94bf33a3-b040-464b-a5be-9434da54f40b",
   "metadata": {
    "tags": []
   },
   "outputs": [],
   "source": [
    "df.loc[:, ['data_contato', 'data_evento']].dropna(inplace=True)"
   ]
  },
  {
   "cell_type": "code",
   "execution_count": 131,
   "id": "7b5ece55-62ca-4113-9825-3053904a076c",
   "metadata": {
    "tags": []
   },
   "outputs": [],
   "source": [
    "df['preço'] = df['preço'].replace('  ', np.nan)"
   ]
  },
  {
   "cell_type": "code",
   "execution_count": 132,
   "id": "cdfa9d42",
   "metadata": {
    "tags": []
   },
   "outputs": [],
   "source": [
    "df[['situação', 'tipo', 'cardápio', 'observação', 'forma_pag']] = df[[\n",
    "    'situação', 'tipo', 'cardápio', 'observação', 'forma_pag']].fillna('Não informado')"
   ]
  },
  {
   "cell_type": "code",
   "execution_count": 133,
   "id": "dc02a8be",
   "metadata": {
    "tags": []
   },
   "outputs": [],
   "source": [
    "df['num_convidados'].fillna(int(0), inplace=True)\n",
    "df['qtde_conv_final'].fillna(int(0), inplace=True)"
   ]
  },
  {
   "cell_type": "code",
   "execution_count": 134,
   "id": "efb33cf4",
   "metadata": {
    "tags": []
   },
   "outputs": [],
   "source": [
    "df['preço'].fillna(df.preço.median(), inplace=True)"
   ]
  },
  {
   "cell_type": "code",
   "execution_count": 135,
   "id": "f954fb94",
   "metadata": {
    "tags": []
   },
   "outputs": [],
   "source": [
    "df[['sinal', 'preço_kids', 'valor_extra']] = df[\n",
    "    ['sinal', 'preço_kids', 'valor_extra']].fillna(float(0))\n",
    "\n",
    "df['kids'] = df['kids'].fillna(int(0))"
   ]
  },
  {
   "cell_type": "code",
   "execution_count": 136,
   "id": "01fc3e03",
   "metadata": {
    "tags": []
   },
   "outputs": [
    {
     "data": {
      "text/plain": [
       "(185, 19)"
      ]
     },
     "execution_count": 136,
     "metadata": {},
     "output_type": "execute_result"
    }
   ],
   "source": [
    "df.shape"
   ]
  },
  {
   "cell_type": "code",
   "execution_count": 137,
   "id": "3da307fc-7e8a-4128-a3ae-5b7c3040021a",
   "metadata": {
    "tags": []
   },
   "outputs": [],
   "source": [
    "df.reset_index(drop=True, inplace=True)"
   ]
  },
  {
   "cell_type": "code",
   "execution_count": 138,
   "id": "2addc6f5-5546-41a4-b1eb-132deb9ab6f1",
   "metadata": {
    "tags": []
   },
   "outputs": [
    {
     "data": {
      "text/html": [
       "<div>\n",
       "<style scoped>\n",
       "    .dataframe tbody tr th:only-of-type {\n",
       "        vertical-align: middle;\n",
       "    }\n",
       "\n",
       "    .dataframe tbody tr th {\n",
       "        vertical-align: top;\n",
       "    }\n",
       "\n",
       "    .dataframe thead th {\n",
       "        text-align: right;\n",
       "    }\n",
       "</style>\n",
       "<table border=\"1\" class=\"dataframe\">\n",
       "  <thead>\n",
       "    <tr style=\"text-align: right;\">\n",
       "      <th></th>\n",
       "      <th>data_contato</th>\n",
       "      <th>etapa</th>\n",
       "      <th>situação</th>\n",
       "      <th>data_evento</th>\n",
       "      <th>tipo</th>\n",
       "      <th>num_convidados</th>\n",
       "      <th>cardápio</th>\n",
       "      <th>preço</th>\n",
       "      <th>sinal</th>\n",
       "      <th>valor_extra</th>\n",
       "      <th>forma_pag</th>\n",
       "      <th>observação</th>\n",
       "      <th>kids</th>\n",
       "      <th>preço_kids</th>\n",
       "      <th>qtde_conv_final</th>\n",
       "      <th>empresa</th>\n",
       "      <th>contato</th>\n",
       "      <th>telefone</th>\n",
       "      <th>email</th>\n",
       "    </tr>\n",
       "  </thead>\n",
       "  <tbody>\n",
       "    <tr>\n",
       "      <th>179</th>\n",
       "      <td>2023-03-13</td>\n",
       "      <td>Em negociação</td>\n",
       "      <td>Encaminhado orçamento</td>\n",
       "      <td>2023-08-12</td>\n",
       "      <td>Evento social</td>\n",
       "      <td>60.0</td>\n",
       "      <td>Não informado</td>\n",
       "      <td>255.0</td>\n",
       "      <td>0.0</td>\n",
       "      <td>0.0</td>\n",
       "      <td>Não informado</td>\n",
       "      <td>Jantar Social</td>\n",
       "      <td>0.0</td>\n",
       "      <td>0.0</td>\n",
       "      <td>0.0</td>\n",
       "      <td>Eliane carvalho</td>\n",
       "      <td>Eliane carvalho</td>\n",
       "      <td>51-996456696</td>\n",
       "      <td>NaN</td>\n",
       "    </tr>\n",
       "    <tr>\n",
       "      <th>175</th>\n",
       "      <td>2023-01-09</td>\n",
       "      <td>Em negociação</td>\n",
       "      <td>Encaminhado orçamento</td>\n",
       "      <td>2023-08-15</td>\n",
       "      <td>Jantar com palestra e welcome drink</td>\n",
       "      <td>100.0</td>\n",
       "      <td>Não informado</td>\n",
       "      <td>255.0</td>\n",
       "      <td>0.0</td>\n",
       "      <td>0.0</td>\n",
       "      <td>Não informado</td>\n",
       "      <td>Sugeri a cliente que vou buscar uma alternativ...</td>\n",
       "      <td>0.0</td>\n",
       "      <td>0.0</td>\n",
       "      <td>0.0</td>\n",
       "      <td>Bruna Martinez</td>\n",
       "      <td>Bruna Martinez</td>\n",
       "      <td>NaN</td>\n",
       "      <td>producao05.bistro@gmail.com</td>\n",
       "    </tr>\n",
       "    <tr>\n",
       "      <th>183</th>\n",
       "      <td>2023-03-02</td>\n",
       "      <td>Em negociação</td>\n",
       "      <td>Não informado</td>\n",
       "      <td>2023-09-23</td>\n",
       "      <td>Casamento</td>\n",
       "      <td>50.0</td>\n",
       "      <td>Não informado</td>\n",
       "      <td>255.0</td>\n",
       "      <td>0.0</td>\n",
       "      <td>0.0</td>\n",
       "      <td>Não informado</td>\n",
       "      <td>Casamento!</td>\n",
       "      <td>0.0</td>\n",
       "      <td>0.0</td>\n",
       "      <td>0.0</td>\n",
       "      <td>Solange Azambuja</td>\n",
       "      <td>Solange Azambuja</td>\n",
       "      <td>5199155-3410</td>\n",
       "      <td>NaN</td>\n",
       "    </tr>\n",
       "    <tr>\n",
       "      <th>139</th>\n",
       "      <td>2023-03-24</td>\n",
       "      <td>Em negociação</td>\n",
       "      <td>Orçamento encaminhado</td>\n",
       "      <td>2023-12-14</td>\n",
       "      <td>Jantar</td>\n",
       "      <td>120.0</td>\n",
       "      <td>Não informado</td>\n",
       "      <td>255.0</td>\n",
       "      <td>0.0</td>\n",
       "      <td>0.0</td>\n",
       "      <td>Não informado</td>\n",
       "      <td>Jantar</td>\n",
       "      <td>0.0</td>\n",
       "      <td>0.0</td>\n",
       "      <td>0.0</td>\n",
       "      <td>Carla Barella</td>\n",
       "      <td>Carla Barella</td>\n",
       "      <td>NaN</td>\n",
       "      <td>carla.barella@cleepar.com.br</td>\n",
       "    </tr>\n",
       "    <tr>\n",
       "      <th>140</th>\n",
       "      <td>2023-03-10</td>\n",
       "      <td>Em negociação</td>\n",
       "      <td>Orçamento encaminhado</td>\n",
       "      <td>2024-01-19</td>\n",
       "      <td>Formatura</td>\n",
       "      <td>30.0</td>\n",
       "      <td>Não informado</td>\n",
       "      <td>255.0</td>\n",
       "      <td>0.0</td>\n",
       "      <td>0.0</td>\n",
       "      <td>Não informado</td>\n",
       "      <td>Formatura do filho</td>\n",
       "      <td>0.0</td>\n",
       "      <td>0.0</td>\n",
       "      <td>0.0</td>\n",
       "      <td>Fernanda Lessa</td>\n",
       "      <td>Fernanda lessa</td>\n",
       "      <td>51-99115-6505</td>\n",
       "      <td>NaN</td>\n",
       "    </tr>\n",
       "  </tbody>\n",
       "</table>\n",
       "</div>"
      ],
      "text/plain": [
       "    data_contato          etapa               situação data_evento  \\\n",
       "179   2023-03-13  Em negociação  Encaminhado orçamento  2023-08-12   \n",
       "175   2023-01-09  Em negociação  Encaminhado orçamento  2023-08-15   \n",
       "183   2023-03-02  Em negociação          Não informado  2023-09-23   \n",
       "139   2023-03-24  Em negociação  Orçamento encaminhado  2023-12-14   \n",
       "140   2023-03-10  Em negociação  Orçamento encaminhado  2024-01-19   \n",
       "\n",
       "                                    tipo  num_convidados       cardápio  \\\n",
       "179                        Evento social            60.0  Não informado   \n",
       "175  Jantar com palestra e welcome drink           100.0  Não informado   \n",
       "183                            Casamento            50.0  Não informado   \n",
       "139                               Jantar           120.0  Não informado   \n",
       "140                            Formatura            30.0  Não informado   \n",
       "\n",
       "     preço  sinal  valor_extra      forma_pag  \\\n",
       "179  255.0    0.0          0.0  Não informado   \n",
       "175  255.0    0.0          0.0  Não informado   \n",
       "183  255.0    0.0          0.0  Não informado   \n",
       "139  255.0    0.0          0.0  Não informado   \n",
       "140  255.0    0.0          0.0  Não informado   \n",
       "\n",
       "                                            observação  kids  preço_kids  \\\n",
       "179                                      Jantar Social   0.0         0.0   \n",
       "175  Sugeri a cliente que vou buscar uma alternativ...   0.0         0.0   \n",
       "183                                         Casamento!   0.0         0.0   \n",
       "139                                             Jantar   0.0         0.0   \n",
       "140                                 Formatura do filho   0.0         0.0   \n",
       "\n",
       "     qtde_conv_final           empresa           contato       telefone  \\\n",
       "179              0.0   Eliane carvalho   Eliane carvalho   51-996456696   \n",
       "175              0.0    Bruna Martinez    Bruna Martinez            NaN   \n",
       "183              0.0  Solange Azambuja  Solange Azambuja   5199155-3410   \n",
       "139              0.0     Carla Barella     Carla Barella            NaN   \n",
       "140              0.0    Fernanda Lessa    Fernanda lessa  51-99115-6505   \n",
       "\n",
       "                            email  \n",
       "179                           NaN  \n",
       "175   producao05.bistro@gmail.com  \n",
       "183                           NaN  \n",
       "139  carla.barella@cleepar.com.br  \n",
       "140                           NaN  "
      ]
     },
     "execution_count": 138,
     "metadata": {},
     "output_type": "execute_result"
    }
   ],
   "source": [
    "df.sort_values(by='data_evento').tail()"
   ]
  },
  {
   "cell_type": "markdown",
   "id": "eba65707-a41d-4099-8022-62c5f2247b7f",
   "metadata": {
    "tags": []
   },
   "source": [
    "### Dados de antes de abril de 2022"
   ]
  },
  {
   "cell_type": "code",
   "execution_count": 139,
   "id": "9b3fffa6",
   "metadata": {
    "tags": []
   },
   "outputs": [
    {
     "data": {
      "text/html": [
       "<div>\n",
       "<style scoped>\n",
       "    .dataframe tbody tr th:only-of-type {\n",
       "        vertical-align: middle;\n",
       "    }\n",
       "\n",
       "    .dataframe tbody tr th {\n",
       "        vertical-align: top;\n",
       "    }\n",
       "\n",
       "    .dataframe thead th {\n",
       "        text-align: right;\n",
       "    }\n",
       "</style>\n",
       "<table border=\"1\" class=\"dataframe\">\n",
       "  <thead>\n",
       "    <tr style=\"text-align: right;\">\n",
       "      <th></th>\n",
       "      <th>data_evento</th>\n",
       "      <th>etapa</th>\n",
       "      <th>data_contato</th>\n",
       "      <th>tipo</th>\n",
       "      <th>valor_total</th>\n",
       "      <th>num_convidados</th>\n",
       "      <th>observação</th>\n",
       "      <th>preço</th>\n",
       "    </tr>\n",
       "  </thead>\n",
       "  <tbody>\n",
       "    <tr>\n",
       "      <th>183</th>\n",
       "      <td>2020-05-30</td>\n",
       "      <td>Não informado</td>\n",
       "      <td>2020-01-27</td>\n",
       "      <td>empresarial</td>\n",
       "      <td>6697.0</td>\n",
       "      <td>33</td>\n",
       "      <td>propostas enviadas</td>\n",
       "      <td>203</td>\n",
       "    </tr>\n",
       "    <tr>\n",
       "      <th>184</th>\n",
       "      <td>2020-06-04</td>\n",
       "      <td>Fechado</td>\n",
       "      <td>2020-06-04</td>\n",
       "      <td>empresarial</td>\n",
       "      <td>7500.0</td>\n",
       "      <td>30</td>\n",
       "      <td>menu Koh Pee Pee 250,00</td>\n",
       "      <td>250</td>\n",
       "    </tr>\n",
       "    <tr>\n",
       "      <th>185</th>\n",
       "      <td>2020-06-12</td>\n",
       "      <td>Fechado</td>\n",
       "      <td>2020-06-12</td>\n",
       "      <td>jantar dia dos namorados</td>\n",
       "      <td>6697.0</td>\n",
       "      <td>33</td>\n",
       "      <td>Não informado</td>\n",
       "      <td>203</td>\n",
       "    </tr>\n",
       "    <tr>\n",
       "      <th>186</th>\n",
       "      <td>2020-08-22</td>\n",
       "      <td>Fechado</td>\n",
       "      <td>2020-08-22</td>\n",
       "      <td>formatura</td>\n",
       "      <td>8400.0</td>\n",
       "      <td>30</td>\n",
       "      <td>DEGUSTAÇÃO FEITA DIA 06/01/20 . Menu escolhido...</td>\n",
       "      <td>280</td>\n",
       "    </tr>\n",
       "    <tr>\n",
       "      <th>187</th>\n",
       "      <td>2021-01-08</td>\n",
       "      <td>Em negociação</td>\n",
       "      <td>2020-02-28</td>\n",
       "      <td>formatura</td>\n",
       "      <td>6697.0</td>\n",
       "      <td>50</td>\n",
       "      <td>enviado orçamento</td>\n",
       "      <td>134</td>\n",
       "    </tr>\n",
       "  </tbody>\n",
       "</table>\n",
       "</div>"
      ],
      "text/plain": [
       "    data_evento          etapa data_contato                      tipo  \\\n",
       "183  2020-05-30  Não informado   2020-01-27               empresarial   \n",
       "184  2020-06-04        Fechado   2020-06-04               empresarial   \n",
       "185  2020-06-12        Fechado   2020-06-12  jantar dia dos namorados   \n",
       "186  2020-08-22        Fechado   2020-08-22                 formatura   \n",
       "187  2021-01-08  Em negociação   2020-02-28                 formatura   \n",
       "\n",
       "     valor_total  num_convidados  \\\n",
       "183       6697.0              33   \n",
       "184       7500.0              30   \n",
       "185       6697.0              33   \n",
       "186       8400.0              30   \n",
       "187       6697.0              50   \n",
       "\n",
       "                                            observação  preço  \n",
       "183                                propostas enviadas     203  \n",
       "184                            menu Koh Pee Pee 250,00    250  \n",
       "185                                      Não informado    203  \n",
       "186  DEGUSTAÇÃO FEITA DIA 06/01/20 . Menu escolhido...    280  \n",
       "187                                  enviado orçamento    134  "
      ]
     },
     "execution_count": 139,
     "metadata": {},
     "output_type": "execute_result"
    }
   ],
   "source": [
    "df_ant_abr22.tail()"
   ]
  },
  {
   "cell_type": "markdown",
   "id": "78a50555",
   "metadata": {},
   "source": [
    "## Unindo os Dataframes"
   ]
  },
  {
   "cell_type": "code",
   "execution_count": 140,
   "id": "4dec0492",
   "metadata": {
    "tags": []
   },
   "outputs": [],
   "source": [
    "# Concatenando os dataframes\n",
    "df_thai = pd.concat([df, df_ant_abr22], axis=0, join='outer', ignore_index=True)"
   ]
  },
  {
   "cell_type": "code",
   "execution_count": 141,
   "id": "e59063a2",
   "metadata": {
    "tags": []
   },
   "outputs": [
    {
     "data": {
      "text/plain": [
       "(373, 20)"
      ]
     },
     "execution_count": 141,
     "metadata": {},
     "output_type": "execute_result"
    }
   ],
   "source": [
    "df_thai.shape"
   ]
  },
  {
   "cell_type": "code",
   "execution_count": 142,
   "id": "fcd1df81-a47f-4c70-b37d-ddb7478d55ea",
   "metadata": {
    "tags": []
   },
   "outputs": [
    {
     "data": {
      "text/plain": [
       "data_contato         0\n",
       "etapa                0\n",
       "situação           188\n",
       "data_evento          0\n",
       "tipo                 0\n",
       "num_convidados       0\n",
       "cardápio           188\n",
       "preço                0\n",
       "sinal              188\n",
       "valor_extra        188\n",
       "forma_pag          188\n",
       "observação           0\n",
       "kids               188\n",
       "preço_kids         188\n",
       "qtde_conv_final    188\n",
       "empresa            306\n",
       "contato            306\n",
       "telefone           309\n",
       "email              369\n",
       "valor_total        185\n",
       "dtype: int64"
      ]
     },
     "execution_count": 142,
     "metadata": {},
     "output_type": "execute_result"
    }
   ],
   "source": [
    "df_thai.isna().sum()"
   ]
  },
  {
   "cell_type": "markdown",
   "id": "bf2d050d",
   "metadata": {},
   "source": [
    "### Tratando valores nulos"
   ]
  },
  {
   "cell_type": "code",
   "execution_count": 143,
   "id": "9ef1699a",
   "metadata": {
    "tags": []
   },
   "outputs": [],
   "source": [
    "# Nulos preenchimento direto\n",
    "df_thai[['situação', 'cardápio', 'forma_pag']] = df_thai[\n",
    "    ['situação', 'cardápio', 'forma_pag']].fillna('Não informado')\n",
    "\n",
    "df_thai[['sinal', 'valor_extra', 'preço_kids']] = df_thai[['sinal', 'valor_extra', 'preço_kids']].fillna(float(0))\n",
    "\n",
    "df_thai[['kids', 'qtde_conv_final']] = df_thai[['kids', 'qtde_conv_final']].fillna(int(0))"
   ]
  },
  {
   "cell_type": "markdown",
   "id": "89704ec0",
   "metadata": {},
   "source": [
    "### Valores calculados de forma automática"
   ]
  },
  {
   "cell_type": "code",
   "execution_count": 144,
   "id": "5aa4a008",
   "metadata": {
    "tags": []
   },
   "outputs": [],
   "source": [
    "df_thai['total_convidados'] = df_thai['num_convidados'] + df_thai['kids']"
   ]
  },
  {
   "cell_type": "code",
   "execution_count": 145,
   "id": "3e3d4e43",
   "metadata": {
    "tags": []
   },
   "outputs": [],
   "source": [
    "df_thai['valor_total'] = (df_thai['num_convidados'] * df_thai['preço']) + (df_thai['kids'] * df_thai['preço_kids']) + df_thai['valor_extra']"
   ]
  },
  {
   "cell_type": "code",
   "execution_count": 146,
   "id": "1e8ef95b",
   "metadata": {
    "tags": []
   },
   "outputs": [],
   "source": [
    "df_thai['saldo_restante'] = df_thai['valor_total'] - df_thai['sinal']"
   ]
  },
  {
   "cell_type": "code",
   "execution_count": 147,
   "id": "265e29cc",
   "metadata": {
    "tags": []
   },
   "outputs": [
    {
     "data": {
      "text/plain": [
       "(373, 22)"
      ]
     },
     "execution_count": 147,
     "metadata": {},
     "output_type": "execute_result"
    }
   ],
   "source": [
    "df_thai.shape"
   ]
  },
  {
   "cell_type": "markdown",
   "id": "f50172fa",
   "metadata": {},
   "source": [
    "## Organiza Dataframe"
   ]
  },
  {
   "cell_type": "code",
   "execution_count": 148,
   "id": "13d529a1",
   "metadata": {
    "tags": []
   },
   "outputs": [],
   "source": [
    "# limpando espaços, deixando todos os caracteres em caixa baixa e capitulando frases.\n",
    "df_thai = df_thai.apply(lambda x: x.astype(str).str.strip().str.casefold().str.capitalize())"
   ]
  },
  {
   "cell_type": "code",
   "execution_count": 149,
   "id": "1aeadeb0",
   "metadata": {
    "scrolled": true,
    "tags": []
   },
   "outputs": [
    {
     "data": {
      "text/plain": [
       "array(['Realizado', 'Não fechado', 'Em negociação', 'Fechado',\n",
       "       'Não informado'], dtype=object)"
      ]
     },
     "execution_count": 149,
     "metadata": {},
     "output_type": "execute_result"
    }
   ],
   "source": [
    "df_thai.etapa.unique()"
   ]
  },
  {
   "cell_type": "code",
   "execution_count": 150,
   "id": "9c54cb9d",
   "metadata": {
    "tags": []
   },
   "outputs": [
    {
     "data": {
      "text/plain": [
       "array(['Não informado', 'Menu phuket', 'Menu krab',\n",
       "       'Wellcome coffee\\nmenu krab', 'A definir', 'Menu koh pee pee',\n",
       "       'Menu namorados', 'Phuket', 'Krab', 'Koh pee pee', 'Ko wai',\n",
       "       'Menu koh lanta', 'Menu ko wai + menu kids', 'Menu especial',\n",
       "       'Ko chang', 'Menu  phuket custo', 'Menu mobo', 'Menu imama', '',\n",
       "       'Menu ton sai', 'Menu ko wai', 'Koh lanta'], dtype=object)"
      ]
     },
     "execution_count": 150,
     "metadata": {},
     "output_type": "execute_result"
    }
   ],
   "source": [
    "df_thai.cardápio.unique()"
   ]
  },
  {
   "cell_type": "code",
   "execution_count": 151,
   "id": "aeae0696",
   "metadata": {
    "tags": []
   },
   "outputs": [
    {
     "data": {
      "text/plain": [
       "array(['Não informado', 'Menu phuket', 'Menu krab',\n",
       "       'Wellcome coffee menu krab', 'A definir', 'Menu koh pee pee',\n",
       "       'Menu namorados', 'Phuket', 'Krab', 'Koh pee pee', 'Ko wai',\n",
       "       'Menu koh lanta', 'Menu ko wai + menu kids', 'Menu especial',\n",
       "       'Ko chang', 'Menu phuket custo', 'Menu mobo', 'Menu imama', '',\n",
       "       'Menu ton sai', 'Menu ko wai', 'Koh lanta'], dtype=object)"
      ]
     },
     "execution_count": 151,
     "metadata": {},
     "output_type": "execute_result"
    }
   ],
   "source": [
    "# regex para any white space\n",
    "regex_blank = re.compile(r'\\s+', flags=re.MULTILINE)\n",
    "# df_cliente['contato'] = df_cliente.contato.str.replace(regex_cliente, '', regex=True)\n",
    "\n",
    "df_thai = df_thai.apply(lambda x: x.str.replace(regex_blank, ' ', regex=True))\n",
    "df_thai.cardápio.unique()"
   ]
  },
  {
   "cell_type": "code",
   "execution_count": 152,
   "id": "eabca78d",
   "metadata": {
    "tags": []
   },
   "outputs": [
    {
     "data": {
      "text/plain": [
       "array(['Não Informado', 'Phuket', 'Krab', 'Wellcome Coffee Krab',\n",
       "       'A Definir', 'Koh Pee Pee', 'Namorados', 'Ko Wai', 'Koh Lanta',\n",
       "       'Ko Wai + Kids', 'Especial', 'Ko Chang', 'Phuket Custo', 'Mobo',\n",
       "       'Imama', '', 'Ton Sai'], dtype=object)"
      ]
     },
     "execution_count": 152,
     "metadata": {},
     "output_type": "execute_result"
    }
   ],
   "source": [
    "regex_menu = re.compile(r'[Menu]{4}(\\s)', flags=re.MULTILINE)\n",
    "df_thai['cardápio'] = df_thai.cardápio.str.title().str.replace(regex_menu, '', regex=True)\n",
    "df_thai.cardápio.unique()"
   ]
  },
  {
   "cell_type": "code",
   "execution_count": 153,
   "id": "2055769e",
   "metadata": {
    "tags": []
   },
   "outputs": [
    {
     "data": {
      "text/plain": [
       "array(['Menu Não Informado', 'Menu Phuket', 'Menu Krab',\n",
       "       'Menu Wellcome Coffee Krab', 'Menu A Definir', 'Menu Koh Pee Pee',\n",
       "       'Menu Namorados', 'Menu Ko Wai', 'Menu Koh Lanta',\n",
       "       'Menu Ko Wai + Kids', 'Menu Especial', 'Menu Ko Chang',\n",
       "       'Menu Phuket Custo', 'Menu Mobo', 'Menu Imama', 'Menu ',\n",
       "       'Menu Ton Sai'], dtype=object)"
      ]
     },
     "execution_count": 153,
     "metadata": {},
     "output_type": "execute_result"
    }
   ],
   "source": [
    "df_thai['cardápio'] = 'Menu ' + df_thai.cardápio\n",
    "df_thai.cardápio.unique()"
   ]
  },
  {
   "cell_type": "code",
   "execution_count": 154,
   "id": "fb60a4c5",
   "metadata": {
    "tags": []
   },
   "outputs": [
    {
     "data": {
      "text/plain": [
       "data_contato        0\n",
       "etapa               0\n",
       "situação            0\n",
       "data_evento         0\n",
       "tipo                0\n",
       "num_convidados      0\n",
       "cardápio            0\n",
       "preço               0\n",
       "sinal               0\n",
       "valor_extra         0\n",
       "forma_pag           0\n",
       "observação          0\n",
       "kids                0\n",
       "preço_kids          0\n",
       "qtde_conv_final     0\n",
       "empresa             0\n",
       "contato             0\n",
       "telefone            0\n",
       "email               0\n",
       "valor_total         0\n",
       "total_convidados    0\n",
       "saldo_restante      0\n",
       "dtype: int64"
      ]
     },
     "execution_count": 154,
     "metadata": {},
     "output_type": "execute_result"
    }
   ],
   "source": [
    "df_thai.isnull().sum()"
   ]
  },
  {
   "cell_type": "code",
   "execution_count": 155,
   "id": "f157bdf3",
   "metadata": {
    "scrolled": true,
    "tags": []
   },
   "outputs": [
    {
     "data": {
      "text/plain": [
       "array(['Realizado', 'Não fechado', 'Em negociação', 'Fechado',\n",
       "       'Não informado'], dtype=object)"
      ]
     },
     "execution_count": 155,
     "metadata": {},
     "output_type": "execute_result"
    }
   ],
   "source": [
    "df_thai.etapa.unique()"
   ]
  },
  {
   "cell_type": "code",
   "execution_count": 156,
   "id": "4e36c9a7",
   "metadata": {
    "tags": []
   },
   "outputs": [
    {
     "data": {
      "text/plain": [
       "data_contato        object\n",
       "etapa               object\n",
       "situação            object\n",
       "data_evento         object\n",
       "tipo                object\n",
       "num_convidados      object\n",
       "cardápio            object\n",
       "preço               object\n",
       "sinal               object\n",
       "valor_extra         object\n",
       "forma_pag           object\n",
       "observação          object\n",
       "kids                object\n",
       "preço_kids          object\n",
       "qtde_conv_final     object\n",
       "empresa             object\n",
       "contato             object\n",
       "telefone            object\n",
       "email               object\n",
       "valor_total         object\n",
       "total_convidados    object\n",
       "saldo_restante      object\n",
       "dtype: object"
      ]
     },
     "execution_count": 156,
     "metadata": {},
     "output_type": "execute_result"
    }
   ],
   "source": [
    "df_thai.dtypes"
   ]
  },
  {
   "cell_type": "code",
   "execution_count": 157,
   "id": "3995c7d3",
   "metadata": {
    "tags": []
   },
   "outputs": [],
   "source": [
    "df_thai['data_evento'] = pd.to_datetime(df_thai['data_evento'], errors='coerce')\n",
    "df_thai['data_contato'] = pd.to_datetime(df_thai['data_contato'], errors='coerce')"
   ]
  },
  {
   "cell_type": "code",
   "execution_count": 158,
   "id": "e656433b",
   "metadata": {
    "scrolled": true,
    "tags": []
   },
   "outputs": [
    {
     "name": "stdout",
     "output_type": "stream",
     "text": [
      "<class 'pandas.core.frame.DataFrame'>\n",
      "RangeIndex: 373 entries, 0 to 372\n",
      "Data columns (total 22 columns):\n",
      " #   Column            Non-Null Count  Dtype         \n",
      "---  ------            --------------  -----         \n",
      " 0   data_contato      373 non-null    datetime64[ns]\n",
      " 1   etapa             373 non-null    object        \n",
      " 2   situação          373 non-null    object        \n",
      " 3   data_evento       373 non-null    datetime64[ns]\n",
      " 4   tipo              373 non-null    object        \n",
      " 5   num_convidados    373 non-null    object        \n",
      " 6   cardápio          373 non-null    object        \n",
      " 7   preço             373 non-null    object        \n",
      " 8   sinal             373 non-null    object        \n",
      " 9   valor_extra       373 non-null    object        \n",
      " 10  forma_pag         373 non-null    object        \n",
      " 11  observação        373 non-null    object        \n",
      " 12  kids              373 non-null    object        \n",
      " 13  preço_kids        373 non-null    object        \n",
      " 14  qtde_conv_final   373 non-null    object        \n",
      " 15  empresa           373 non-null    object        \n",
      " 16  contato           373 non-null    object        \n",
      " 17  telefone          373 non-null    object        \n",
      " 18  email             373 non-null    object        \n",
      " 19  valor_total       373 non-null    object        \n",
      " 20  total_convidados  373 non-null    object        \n",
      " 21  saldo_restante    373 non-null    object        \n",
      "dtypes: datetime64[ns](2), object(20)\n",
      "memory usage: 64.2+ KB\n"
     ]
    }
   ],
   "source": [
    "df_thai.info()"
   ]
  },
  {
   "cell_type": "code",
   "execution_count": 159,
   "id": "b1d421e9",
   "metadata": {
    "tags": []
   },
   "outputs": [],
   "source": [
    "df_thai = df_thai.sort_values('data_evento', ignore_index=True)"
   ]
  },
  {
   "cell_type": "code",
   "execution_count": 160,
   "id": "40430198",
   "metadata": {
    "scrolled": true,
    "tags": []
   },
   "outputs": [
    {
     "data": {
      "text/html": [
       "<div>\n",
       "<style scoped>\n",
       "    .dataframe tbody tr th:only-of-type {\n",
       "        vertical-align: middle;\n",
       "    }\n",
       "\n",
       "    .dataframe tbody tr th {\n",
       "        vertical-align: top;\n",
       "    }\n",
       "\n",
       "    .dataframe thead th {\n",
       "        text-align: right;\n",
       "    }\n",
       "</style>\n",
       "<table border=\"1\" class=\"dataframe\">\n",
       "  <thead>\n",
       "    <tr style=\"text-align: right;\">\n",
       "      <th></th>\n",
       "      <th>data_contato</th>\n",
       "      <th>etapa</th>\n",
       "      <th>situação</th>\n",
       "      <th>data_evento</th>\n",
       "      <th>tipo</th>\n",
       "      <th>num_convidados</th>\n",
       "      <th>cardápio</th>\n",
       "      <th>preço</th>\n",
       "      <th>sinal</th>\n",
       "      <th>valor_extra</th>\n",
       "      <th>...</th>\n",
       "      <th>kids</th>\n",
       "      <th>preço_kids</th>\n",
       "      <th>qtde_conv_final</th>\n",
       "      <th>empresa</th>\n",
       "      <th>contato</th>\n",
       "      <th>telefone</th>\n",
       "      <th>email</th>\n",
       "      <th>valor_total</th>\n",
       "      <th>total_convidados</th>\n",
       "      <th>saldo_restante</th>\n",
       "    </tr>\n",
       "  </thead>\n",
       "  <tbody>\n",
       "    <tr>\n",
       "      <th>368</th>\n",
       "      <td>2023-01-24</td>\n",
       "      <td>Não fechado</td>\n",
       "      <td>Fará uma viagem</td>\n",
       "      <td>2023-08-12</td>\n",
       "      <td>Formatura</td>\n",
       "      <td>50.0</td>\n",
       "      <td>Menu Não Informado</td>\n",
       "      <td>255.0</td>\n",
       "      <td>0.0</td>\n",
       "      <td>0.0</td>\n",
       "      <td>...</td>\n",
       "      <td>0.0</td>\n",
       "      <td>0.0</td>\n",
       "      <td>0.0</td>\n",
       "      <td>Milena moni</td>\n",
       "      <td>Nan</td>\n",
       "      <td>51-99153.8286</td>\n",
       "      <td>Nan</td>\n",
       "      <td>12750.0</td>\n",
       "      <td>50.0</td>\n",
       "      <td>12750.0</td>\n",
       "    </tr>\n",
       "    <tr>\n",
       "      <th>369</th>\n",
       "      <td>2023-01-09</td>\n",
       "      <td>Em negociação</td>\n",
       "      <td>Encaminhado orçamento</td>\n",
       "      <td>2023-08-15</td>\n",
       "      <td>Jantar com palestra e welcome drink</td>\n",
       "      <td>100.0</td>\n",
       "      <td>Menu Não Informado</td>\n",
       "      <td>255.0</td>\n",
       "      <td>0.0</td>\n",
       "      <td>0.0</td>\n",
       "      <td>...</td>\n",
       "      <td>0.0</td>\n",
       "      <td>0.0</td>\n",
       "      <td>0.0</td>\n",
       "      <td>Bruna martinez</td>\n",
       "      <td>Bruna martinez</td>\n",
       "      <td>Nan</td>\n",
       "      <td>Producao05.bistro@gmail.com</td>\n",
       "      <td>25500.0</td>\n",
       "      <td>100.0</td>\n",
       "      <td>25500.0</td>\n",
       "    </tr>\n",
       "    <tr>\n",
       "      <th>370</th>\n",
       "      <td>2023-03-02</td>\n",
       "      <td>Em negociação</td>\n",
       "      <td>Não informado</td>\n",
       "      <td>2023-09-23</td>\n",
       "      <td>Casamento</td>\n",
       "      <td>50.0</td>\n",
       "      <td>Menu Não Informado</td>\n",
       "      <td>255.0</td>\n",
       "      <td>0.0</td>\n",
       "      <td>0.0</td>\n",
       "      <td>...</td>\n",
       "      <td>0.0</td>\n",
       "      <td>0.0</td>\n",
       "      <td>0.0</td>\n",
       "      <td>Solange azambuja</td>\n",
       "      <td>Solange azambuja</td>\n",
       "      <td>5199155-3410</td>\n",
       "      <td>Nan</td>\n",
       "      <td>12750.0</td>\n",
       "      <td>50.0</td>\n",
       "      <td>12750.0</td>\n",
       "    </tr>\n",
       "    <tr>\n",
       "      <th>371</th>\n",
       "      <td>2023-03-24</td>\n",
       "      <td>Em negociação</td>\n",
       "      <td>Orçamento encaminhado</td>\n",
       "      <td>2023-12-14</td>\n",
       "      <td>Jantar</td>\n",
       "      <td>120.0</td>\n",
       "      <td>Menu Não Informado</td>\n",
       "      <td>255.0</td>\n",
       "      <td>0.0</td>\n",
       "      <td>0.0</td>\n",
       "      <td>...</td>\n",
       "      <td>0.0</td>\n",
       "      <td>0.0</td>\n",
       "      <td>0.0</td>\n",
       "      <td>Carla barella</td>\n",
       "      <td>Carla barella</td>\n",
       "      <td>Nan</td>\n",
       "      <td>Carla.barella@cleepar.com.br</td>\n",
       "      <td>30600.0</td>\n",
       "      <td>120.0</td>\n",
       "      <td>30600.0</td>\n",
       "    </tr>\n",
       "    <tr>\n",
       "      <th>372</th>\n",
       "      <td>2023-03-10</td>\n",
       "      <td>Em negociação</td>\n",
       "      <td>Orçamento encaminhado</td>\n",
       "      <td>2024-01-19</td>\n",
       "      <td>Formatura</td>\n",
       "      <td>30.0</td>\n",
       "      <td>Menu Não Informado</td>\n",
       "      <td>255.0</td>\n",
       "      <td>0.0</td>\n",
       "      <td>0.0</td>\n",
       "      <td>...</td>\n",
       "      <td>0.0</td>\n",
       "      <td>0.0</td>\n",
       "      <td>0.0</td>\n",
       "      <td>Fernanda lessa</td>\n",
       "      <td>Fernanda lessa</td>\n",
       "      <td>51-99115-6505</td>\n",
       "      <td>Nan</td>\n",
       "      <td>7650.0</td>\n",
       "      <td>30.0</td>\n",
       "      <td>7650.0</td>\n",
       "    </tr>\n",
       "  </tbody>\n",
       "</table>\n",
       "<p>5 rows × 22 columns</p>\n",
       "</div>"
      ],
      "text/plain": [
       "    data_contato          etapa               situação data_evento  \\\n",
       "368   2023-01-24    Não fechado        Fará uma viagem  2023-08-12   \n",
       "369   2023-01-09  Em negociação  Encaminhado orçamento  2023-08-15   \n",
       "370   2023-03-02  Em negociação          Não informado  2023-09-23   \n",
       "371   2023-03-24  Em negociação  Orçamento encaminhado  2023-12-14   \n",
       "372   2023-03-10  Em negociação  Orçamento encaminhado  2024-01-19   \n",
       "\n",
       "                                    tipo num_convidados            cardápio  \\\n",
       "368                            Formatura           50.0  Menu Não Informado   \n",
       "369  Jantar com palestra e welcome drink          100.0  Menu Não Informado   \n",
       "370                            Casamento           50.0  Menu Não Informado   \n",
       "371                               Jantar          120.0  Menu Não Informado   \n",
       "372                            Formatura           30.0  Menu Não Informado   \n",
       "\n",
       "     preço sinal valor_extra  ... kids preço_kids qtde_conv_final  \\\n",
       "368  255.0   0.0         0.0  ...  0.0        0.0             0.0   \n",
       "369  255.0   0.0         0.0  ...  0.0        0.0             0.0   \n",
       "370  255.0   0.0         0.0  ...  0.0        0.0             0.0   \n",
       "371  255.0   0.0         0.0  ...  0.0        0.0             0.0   \n",
       "372  255.0   0.0         0.0  ...  0.0        0.0             0.0   \n",
       "\n",
       "              empresa           contato       telefone  \\\n",
       "368       Milena moni               Nan  51-99153.8286   \n",
       "369    Bruna martinez    Bruna martinez            Nan   \n",
       "370  Solange azambuja  Solange azambuja   5199155-3410   \n",
       "371     Carla barella     Carla barella            Nan   \n",
       "372    Fernanda lessa    Fernanda lessa  51-99115-6505   \n",
       "\n",
       "                            email valor_total total_convidados saldo_restante  \n",
       "368                           Nan     12750.0             50.0        12750.0  \n",
       "369   Producao05.bistro@gmail.com     25500.0            100.0        25500.0  \n",
       "370                           Nan     12750.0             50.0        12750.0  \n",
       "371  Carla.barella@cleepar.com.br     30600.0            120.0        30600.0  \n",
       "372                           Nan      7650.0             30.0         7650.0  \n",
       "\n",
       "[5 rows x 22 columns]"
      ]
     },
     "execution_count": 160,
     "metadata": {},
     "output_type": "execute_result"
    }
   ],
   "source": [
    "df_thai.tail()"
   ]
  },
  {
   "cell_type": "code",
   "execution_count": 161,
   "id": "ce138a2f",
   "metadata": {
    "tags": []
   },
   "outputs": [
    {
     "data": {
      "text/plain": [
       "data_contato        0\n",
       "etapa               0\n",
       "situação            0\n",
       "data_evento         0\n",
       "tipo                0\n",
       "num_convidados      0\n",
       "cardápio            0\n",
       "preço               0\n",
       "sinal               0\n",
       "valor_extra         0\n",
       "forma_pag           0\n",
       "observação          0\n",
       "kids                0\n",
       "preço_kids          0\n",
       "qtde_conv_final     0\n",
       "empresa             0\n",
       "contato             0\n",
       "telefone            0\n",
       "email               0\n",
       "valor_total         0\n",
       "total_convidados    0\n",
       "saldo_restante      0\n",
       "dtype: int64"
      ]
     },
     "execution_count": 161,
     "metadata": {},
     "output_type": "execute_result"
    }
   ],
   "source": [
    "df_thai.isna().sum()"
   ]
  },
  {
   "cell_type": "markdown",
   "id": "838cfd8c-9b18-4632-b793-d9d985b111b9",
   "metadata": {},
   "source": [
    "### Grava Dataframe"
   ]
  },
  {
   "cell_type": "code",
   "execution_count": 162,
   "id": "736b28b6",
   "metadata": {
    "tags": []
   },
   "outputs": [],
   "source": [
    "df_thai.to_excel('./dados/df_thai_final.xlsx', index=False)"
   ]
  }
 ],
 "metadata": {
  "kernelspec": {
   "display_name": "Python 3 (ipykernel)",
   "language": "python",
   "name": "python3"
  },
  "language_info": {
   "codemirror_mode": {
    "name": "ipython",
    "version": 3
   },
   "file_extension": ".py",
   "mimetype": "text/x-python",
   "name": "python",
   "nbconvert_exporter": "python",
   "pygments_lexer": "ipython3",
   "version": "3.10.10"
  },
  "toc-showtags": false
 },
 "nbformat": 4,
 "nbformat_minor": 5
}
