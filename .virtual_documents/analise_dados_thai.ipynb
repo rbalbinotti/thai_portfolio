# bibliotecas
import locale
from datetime import date
import pandas as pd
import plotly.express as px
import plotly.graph_objects as go
import plotly.io as pio

# Graf na tela
get_ipython().run_line_magic("matplotlib", " inline")


# Plotly themes
# seaborn, plotly_white, simple_white, plotly, plotly_dark, ggplot2, none

pio.templates.default = 'plotly_white'

px.defaults.template = 'plotly_white'
px.defaults.color_continuous_scale = px.colors.sequential.Blackbody
px.defaults.width = 800
px.defaults.height = 600


def format_number(num):
    '''Troca ponto por vírgula, formato pt_BR e inclui casa do milhar'''
    return '{:,.2f}'.format(num).replace(',', ';').replace('.', ',').replace(';', '.')


pd.options.display.float_format = format_number


locale.setlocale(locale.LC_ALL, 'pt_BR')


df = pd.read_excel('./dados/df_thai_final.xlsx')


df.tail()


df.dtypes


inteiros = ['num_convidados', 'kids', 'qtde_conv_final', 'total_convidados']

df[inteiros] = df[inteiros].astype('int16')


valor_total_mediano = df['valor_total'].median()
print(valor_total_mediano)


df['etapa'] = df.etapa.astype('category')
# df.etapa.unique()


# Criando código para coluna categórica e incluindo coluna no dataframe
df.insert(2, 'cod_etapa', df['etapa'].cat.codes)


# Criando colunas:
#        DataFrame.insert(loc, column, value, allow_duplicates=False)
# df.insert(1, 'ano_evento', df.data_evento.dt.year)
# df.insert(2, 'mes_evento', df.data_evento.dt.month_name())
# df.insert(3, 'dia_semana', df.data_evento.dt.day_name())

# Convertendo direto para português, precisa utilizar locale.setlocale
df.insert(1, 'ano_evento', df.data_evento.dt.strftime('%Y'))
df.insert(2, 'mes_evento', df.data_evento.dt.strftime('%b'))
df.insert(3, 'dia_semana', df.data_evento.dt.strftime('%A'))

# df['ano_evento'] = df['data_evento'].dt.year
# df['mes_evento'] =  df['data_evento'].dt.month_name()


df.head(2)


df['ano_evento'] = df.ano_evento.astype('int16')


df_qtde_eventos = df.groupby(df['ano_evento']).count()
# df_qtde_eventos.filter(['data_evento'])


df_qtde_eventos.mes_evento


fig = px.bar(
    df_qtde_eventos,
    x='num_convidados',
    title='Quantidade Total de Orçamentos por Ano',
    text_auto=True,
    labels={
        'num_convidados': 'Quantidade Orçamentos',
        'ano_evento': 'Ano Evento'})
fig.update_layout(title_font_size=24)
fig.update_yaxes(title=None)

fig.show()
fig.write_html(
    r'./graficos/qtde_orçamentos.html')


# Valor total orçado por ano
valor_ano = df[['valor_total', 'ano_evento']].groupby('ano_evento').sum()
# valor_ano


# fig = px.bar(df, x='ano_evento', y='valor_total', color='smoker', barmode='group')
fig = px.histogram(
    df,
    x='ano_evento',
    y='valor_total',
    text_auto=True,
    title='Orçamentos solicitados por Ano',
    labels={
        'valor_total': 'Orçamentos',
        'ano_evento': 'Ano evento'
    },
    color='ano_evento',
)
fig.update_yaxes(title=None, ticklabelstep=2, showticklabels=True)
fig.update_layout(bargap=0.4, separators=',.', title_font_size=24)
fig.update_traces(texttemplate='%{y:,.0f}', textposition='outside')
fig.update_layout(showlegend=False)

# 'Price: %{y:$.2f} syntax %{variable:d3-format}'

fig.show()
fig.write_html(
     r'./graficos/valor_total_orçado.html')


df.loc[:, ['valor_total', 'total_convidados']]


currentDate = date.today()
year = currentDate.year


type(year)


# Filtro
df_ano_atual = df[df['ano_evento'] == year]
df_fut = df[df['ano_evento'] > year]


df_ano_atual.tail()


df_ano_atual = df_ano_atual.drop(columns='cod_etapa')


df_ano_atual['etapa'] = df_ano_atual.etapa.astype('str')


df_ano_atual['etapa'] = df_ano_atual.etapa.astype('category')
# df_ano_atual.etapa.unique()


df_ano_atual.insert(5, 'cod_etapa', df['etapa'].cat.codes)
# df_ano_atual.head()


df_ano_atual.etapa.unique()


df_fut = df_fut.drop(columns='cod_etapa')


df_fut['etapa'] = df_fut.etapa.astype('str')


df_fut['etapa'] = df_fut.etapa.astype('category')
# df_fut.etapa.unique()


df_fut.insert(5, 'cod_etapa', df['etapa'].cat.codes)
# df_fut.head()


df_fut.etapa.unique()


# Removendo warning
# pd.set_option('mode.chained_assignment', None) # 'warn' | 'raise' | None


# df_ano_atual.query('etapa == "Não fechado"')


fig = px.histogram(
    df_ano_atual,
    x='mes_evento',
    labels={
        'mes_evento': 'Ano',
        'count': 'Quantidade de Eventos',
        'etapa': 'Etapa'},
    text_auto=False,
    color='etapa',
    barmode='group',
    title='Evolução de Orçamentos Ano Atual')

fig.update_yaxes(
    title='Número de Eventos',
    title_font={'size': 14},
    ticklabelstep=1,
    showticklabels=True)

fig.update_xaxes(
    title_font={'size': 14},
    title_standoff=10,
    categoryarray=(
        'jan',
        'fev',
        'mar',
        'abr',
        'mai',
        'jun',
        'jul',
        'ago',
        'set',
        'out',
        'nov',
        'dez'))

fig.update_layout(title_font_size=24, bargap=0.1)

fig.show()
fig.write_html(r'./graficos/orç_ano.html')


# df_filtro = df.query('data_evento >= "2022/04"')
df_ano_atual[['data_evento', 'etapa']].groupby(['etapa']).count()


# df_ano_atual.query("data_evento >= '2022/04' and etapa == 'Realizado'")

fig = px.histogram(
    df_ano_atual,
    x='cod_etapa',
    y='valor_total',
    color='etapa',
    text_auto=True,
    title='Soma Eventos Realizados e Prospectados',
    labels={'etapa': 'Etapa'},
)

fig.update_yaxes(title=None, ticklabelstep=1, showticklabels=False)
fig.update_xaxes(title=None,
                 title_font={'size': 10},
                 title_standoff=10,
                 showticklabels=True)
fig.update_layout(title_font_size=24, bargap=0.5, separators=',.')
fig.update_traces(texttemplate='%{y:,.0f}', textposition='outside')

fig.update_layout()
fig.update_xaxes(ticktext=df_ano_atual.etapa, tickvals=df_ano_atual.cod_etapa)

fig.show()
fig.write_html(r'./graficos/eventos_ano_atual.html')


etapa = df_ano_atual.query(
    'etapa == "Não fechado" or etapa == "Fechado" or etapa == "Realizado"')
fig = px.pie(etapa, 'etapa', title='Etapas do Processo ')
fig.update_layout(title_font_size=24)
fig.update_traces(textposition='outside', textinfo='percent+label')
# fig.update_layout(title_font_size=24, bargap=0.2)

fig.show()
fig.write_html(r'./graficos/etapas_processo.html')


# df_ano_atual.columns.values


# df_ano_atual.dia_semana.sort_values(axis=0, ascending=False)


# etapa = df_ano_atual.query('etapa == "Não fechado" or etapa == "Fechado" or etapa == "Realizado"')
fig = px.pie(df_ano_atual, 'dia_semana', title='Procura por dia da semana')
fig.update_layout(title_font_size=24)
fig.update_traces(textposition='outside', textinfo='percent+label')
# fig.update_layout(title_font_size=24, bargap=0.2)
fig.update_layout(showlegend=False)

fig.show()
fig.write_html(r'./graficos/dist_dia_semana.html')


# df_ano_atual.tail(2)


df_realizado = df.query('etapa == "Realizado" & ano_evento > 2021')


# df_realizado


# fig = px.bar(df, x="ano_evento", y="valor_total", color="smoker", barmode="group")
fig = px.histogram(
    df_realizado,
    x='ano_evento',
    y='valor_total',
    text_auto=True,
    title='Valor total Realizado',
    labels={
        'valor_total': 'Orçamentos',
        'ano_evento': 'Ano evento'
        },
    color='ano_evento')

fig.update_xaxes(ticklabelstep=2)
fig.update_yaxes(title=None, ticklabelstep=1, showticklabels=True)
fig.update_layout(bargap=0.4, separators=',.')
fig.update_traces(texttemplate='%{y:,.0f}', textposition='outside')
fig.update_layout(showlegend=True)

# "Price: %{y:$.2f} syntax %{variable:d3-format}"

fig.show()
fig.write_html(r'./graficos/faturamento_ano.html')


negociacao = df.loc[:, [
    'etapa',
    'total_convidados',
    'data_evento',
    'valor_total']].query(
    '(etapa == "Em negociação") and (data_evento >= @year)')
negociacao.sort_values('data_evento', inplace=True)
negociacao['data_evento'] = negociacao.data_evento.dt.strftime('%x')
negociacao.loc['Total'] = negociacao.sum(numeric_only=True)
negociacao['etapa'] = negociacao.etapa.astype(str).replace('nan', '')
negociacao.fillna('', inplace=True)
# negociacao


fig = go.Figure(data=[
    go.Table(
        header=dict(values=list(negociacao.columns)),
        cells=dict(values=[
                negociacao.etapa,
                negociacao.total_convidados,
                negociacao.data_evento,
                negociacao.valor_total
                ]),
        )
    ])
fig.update_layout(title='Tabela Eventos em Negociação',
                  title_font_size=24)
fig.update_traces(cells_format=[[None], [None], [None], [',.2f']])


fig.show()
fig.write_html(r'./graficos/tabela_em_negociação.html')


fechado = df.loc[:,
                 ['etapa', 'total_convidados',
                  'data_evento', 'valor_total']].query(
    '(etapa == "Fechado") and (data_evento >= @year)')
fechado['data_evento'] = fechado.data_evento.dt.strftime('%x')
fechado.loc['Total'] = fechado.sum(numeric_only=True)
fechado['etapa'] = fechado.etapa.astype(str)
fechado = fechado.fillna('', axis=0)
fechado.etapa.replace('nan', '', inplace=True)
# fechado


fig = go.Figure(data=[
    go.Table(
        header=dict(
            values=list(fechado.columns)),
        cells=dict(
            values=[
                fechado.etapa,
                fechado.total_convidados,
                fechado.data_evento,
                fechado.valor_total])
    )
])
fig.update_layout(title='Tabela Eventos Fechados', title_font_size=24)
fig.update_traces(cells_format=[[None], [None], [None], [',.2f']])

fig.show()
fig.write_html(
     r'./graficos/Tabela_fechado.html')


# negociacao = df_ano_atual[(df_ano_atual['etapa'] != 'Realizado') & (df_ano_atual['etapa'] != 'Fechado')]
fig = px.histogram(
    df_ano_atual,
    x='mes_evento',
    y='valor_total',
    text_auto=True,
    title='Eventos Negociados',
    color='etapa',
    labels={'mes_evento': 'Mês Evento'},
    )

fig.update_yaxes(title=None, ticklabelstep=1, showticklabels=True)
fig.update_xaxes(
    title=None,
    title_standoff=10,
    categoryarray=(
        'jan',
        'fev',
        'mar',
        'abr',
        'mai',
        'jun',
        'jul',
        'ago',
        'set',
        'out',
        'nov',
        'dez',
        ),
    )
fig.update_layout(title_font_size=24, bargap=0.07, separators=',.')
fig.update_traces(texttemplate='%{y:,.0f}')

fig.show()
fig.write_html(r'./graficos/eventos_negociados_ano.html')


fat = df_ano_atual[df_ano_atual['etapa'] == 'Realizado']
fig = px.histogram(
    fat,
    x='mes_evento',
    y='valor_total',
    text_auto=True,
    title='Eventos Realizados',
    color='mes_evento',
    labels={'mes_evento': 'Mês Evento'},
    )

fig.update_yaxes(title=None, ticklabelstep=2, showticklabels=False)
fig.update_xaxes(title=None, title_font={'size': 20}, title_standoff=10)
fig.update_layout(title_font_size=24, bargap=0.3, separators=',.')
fig.update_traces(texttemplate='%{y:,.0f}', textposition='outside')
fig.update_layout(showlegend=False)

fig.show()
fig.write_html(r'./graficos/eventos_realizados.html')


fig = px.scatter(
    df_ano_atual.query('valor_total > 0 and preço > 0').sort_values(
        by='cardápio'),
    x='total_convidados',
    y='preço',
    labels={
        'preço': 'Valor cardápio',
        'qtde_conv_final': 'Quantidade de convidados',
        },
    color='cardápio',
    size='valor_total',
    )
fig.update_layout(
    title='Distribuição: Número de Convidados x Valor do Cardápio',
    title_font_size=20,
    )
fig.update_traces(marker_size=12)

fig.show()
fig.write_html(r'./graficos/num_convidados_valor_cardápio.html')


media_convidados = round(df_ano_atual['total_convidados'].mean())
print(f'Quantidade média de convidados: {media_convidados}')


mediana_convidados = round(df_ano_atual['total_convidados'].median())
print(f'Quantidade mediana de convidados: {mediana_convidados}')


fig = px.histogram(
    df_ano_atual.query(
        "valor_total > 0 and total_convidados > 0 & etapa != 'Em negociação' & etapa != 'Não fechado'"
        ),
    x='total_convidados',
    y='valor_total',
    text_auto=True,
    title='Valor por Quant. de Convidados - Eventos Realizados e Fechados',
    labels={
        'valor_total': 'Valor acumulado',
        'total_convidados': 'Quantidade de convidados',
        },
    barmode='relative',
    nbins=10,
    )

fig.update_yaxes(title=None, ticklabelstep=2, showticklabels=False)
fig.update_xaxes(
    title='Grupo quantidade de Convidados Efetivos',
    title_font={'size': 20},
    title_standoff=10,
    )
fig.update_layout(title_font_size=24, bargap=0.1, separators=',.')
fig.update_traces(texttemplate='%{y:,.0f}')
# fig.update_traces(nbinsx=<VALUE>, selector=dict(type='histogram'))

fig.show()
fig.write_html(
     r'./graficos/valor_qtde_pessoas.html')


fig = px.scatter(
    df.query(
        "total_convidados > 0 and valor_total > 0 & etapa == 'Realizado' "),
    x='total_convidados',
    y='valor_total',
    trendline='ols',
    labels={
        'total_convidados': 'Quantidade convidados',
        'valor_total': 'Valor evento',
        },
    title='Regressão linear - Valor de evento por convidados - Início 2018',
    color='total_convidados',
    size='total_convidados',
    size_max=12,
    color_continuous_scale=px.colors.cyclical.IceFire,
    )
fig.show()
fig.write_html(r'./graficos/regressão_linear.html')


fig = px.histogram(
    df_fut,
    x='mes_evento',
    labels={
        'mes_evento': 'Ano',
        'count': 'Quantidade de Eventos',
        'etapa': 'Etapa'},
    text_auto=False,
    color='etapa',
    barmode='group',
    title='Evolução de Orçamentos próximo Ano')

fig.update_yaxes(
    title='Número de Eventos',
    title_font={'size': 14},
    ticklabelstep=1,
    showticklabels=True)

fig.update_xaxes(
    title_font={'size': 14},
    title_standoff=10,
    categoryarray=(
        'jan',
        'fev',
        'mar',
        'abr',
        'mai',
        'jun',
        'jul',
        'ago',
        'set',
        'out',
        'nov',
        'dez'))

fig.update_layout(title_font_size=24, bargap=0.1)

fig.show()
fig.write_html(r'./graficos/orç_prox_ano.html')


# df_ano_atual.query("data_evento >= '2022/04' and etapa == 'Realizado'")

fig = px.histogram(
    df_fut,
    x='cod_etapa',
    y='valor_total',
    color='etapa',
    text_auto=True,
    title='Soma Prospectados Próximo Ano',
    labels={'etapa': 'Etapa'},
)

fig.update_yaxes(title=None, ticklabelstep=1, showticklabels=False)
fig.update_xaxes(title=None,
                 title_font={'size': 10},
                 title_standoff=10,
                 showticklabels=True)
fig.update_layout(title_font_size=24, bargap=0.5, separators=',.')
fig.update_traces(texttemplate='%{y:,.0f}', textposition='outside')

fig.update_layout()
fig.update_xaxes(ticktext=df_fut.etapa, tickvals=df_fut.cod_etapa)
# fig.update_traces(name= 'etapa', visible=True, selector=dict(type='histogram'))

fig.show()
fig.write_html(r'./graficos/eventos_fut.html')


# etapa = df_ano_atual.query('etapa == "Não fechado" or etapa == "Fechado" or etapa == "Realizado"')
fig = px.pie(df_fut, 'dia_semana', title='Procura por dia da semana Próximo Ano')
fig.update_layout(title_font_size=24)
fig.update_traces(textposition='outside', textinfo='percent+label')
# fig.update_layout(title_font_size=24, bargap=0.2)
fig.update_layout(showlegend=False)

fig.show()
fig.write_html(r'./graficos/dist_dia_semana_fut.html')


# negociacao = df_ano_atual[(df_ano_atual['etapa'] != 'Realizado') & (df_ano_atual['etapa'] != 'Fechado')]
fig = px.histogram(
    df_fut,
    x='mes_evento',
    y='valor_total',
    text_auto=True,
    title='Eventos Negociados Próximo Ano',
    color='etapa',
    labels={'mes_evento': 'Mês Evento'},
    )

fig.update_yaxes(title=None, ticklabelstep=1, showticklabels=True)
fig.update_xaxes(
    title=None,
    title_standoff=10,
    categoryarray=(
        'jan',
        'fev',
        'mar',
        'abr',
        'mai',
        'jun',
        'jul',
        'ago',
        'set',
        'out',
        'nov',
        'dez',
        ),
    )
fig.update_layout(title_font_size=24, bargap=0.07, separators=',.')
fig.update_traces(texttemplate='%{y:,.0f}')

fig.show()
fig.write_html(r'./graficos/eventos_negociados_fut.html')
