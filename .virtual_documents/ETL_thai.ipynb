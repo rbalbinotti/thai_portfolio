from datetime import date as dt
import re
import numpy as np
import pandas as pd


col_padrao = {
    'Convidados': 'num_convidados',
    'Convidados Efetivos': 'qtde_conv_final',
    'Forma de pagamento': 'forma_pag'
 }


# Tratando colunas
def colunas_lower_replace(x):
    '''
    Remomeia colunas e troca espaço por underline.
    '''
    x.rename(columns=col_padrao, inplace=True)
    x.columns = x.columns.str.lower().str.replace(' ', '_')
    return


# Tratando espaços em branco
def whitespace_remover(dataframe):
    '''
    Retira estaços em branco do dataframe.
    '''
    # iterating over the columns
    for i in dataframe:
        # checking datatype of each columns
        if dataframe[i].dtypes == 'object':

            # applying strip function on column
            dataframe[i] = dataframe[i].str.strip()
        else:
            # if condn. is False then it will do nothing.
            pass


caminho = r'./dados/rel_eventos.xlsx'
caminho2 = r'./dados/antes_abril_2022.xlsx'
caminho3 = r'./dados/rel_eventos_2023.xlsx'

# retorna um dict
dicio22 = pd.read_excel(
    caminho, ["abril", "maio", "junho", "julho", "agosto", "setembro",
              "outubro", "novembro", "dezembro"],
    index_col=None, na_values=["NA"]
    )

dicio23 = pd.read_excel(caminho3,
                        ['Jan', 'Fev', 'Mar', 'Abr',
                         'Mai', 'Jun', 'Jul', 'Ago',
                         'Set', 'Out', 'Nov', 'Dez'],
                        index_col=None, na_values=['NA'])

df_ant_abr22 = pd.read_excel(caminho2)


type(dicio22)


# pegar a sheet do dict e transformar em Dataframe
dicio22.get('abril').head(3)


dicio23.get('Jan').head(3)


df_ant_abr22.head()


df22 = pd.DataFrame()

for i in dicio22:
    # print(i)
    # nome_df = 'df_' + i[:3]
    temp = dicio22.get(i)
    df22 = pd.concat([df22, temp], join='outer', ignore_index=True)


df23 = pd.DataFrame()

for i in dicio23:
    # print(i)
    # nome_df = 'df_' + i[:3]
    temp = dicio23.get(i)
    df23 = pd.concat([df23, temp], join='outer', ignore_index=True)


df22.info()


df23.info()


df = pd.concat([df22, df23], ignore_index=True)


# renomeando colunas
colunas_lower_replace(df)


df.columns


# Data
df['data_contato'] = pd.to_datetime(df['data_contato'], errors='coerce')
df['data_evento'] = pd.to_datetime(df['data_evento'], errors='coerce')


# drop colunas que serão calculadas automaticamente
df.drop(columns=['total_convidados', 'saldo_restante', 'valor_total'],
        inplace=True)


# drop rows all null
df.dropna(how='all', inplace=True)


df.isna().sum()


df[df['etapa'].isna()]


df.dropna(subset=['etapa'], inplace=True)


df['data_contato'] = df.data_contato.fillna(df.data_evento)

dia = dt.today() + pd.DateOffset(days=20)
df['data_evento'] = df.data_evento.fillna(dia)


df.loc[:, ['data_contato', 'data_evento']].dropna(inplace=True)


df['preço'] = df['preço'].replace('  ', np.nan)


df[['situação', 'tipo', 'cardápio', 'observação', 'forma_pag']] = df[[
    'situação', 'tipo', 'cardápio', 'observação', 'forma_pag']].fillna('Não informado')


df['num_convidados'].fillna(int(0), inplace=True)
df['qtde_conv_final'].fillna(int(0), inplace=True)


df['preço'].fillna(df.preço.median(), inplace=True)


df[['sinal', 'preço_kids', 'valor_extra']] = df[
    ['sinal', 'preço_kids', 'valor_extra']].fillna(float(0))

df['kids'] = df['kids'].fillna(int(0))


df.shape


df.reset_index(drop=True, inplace=True)


df.sort_values(by='data_evento').tail()


df_ant_abr22.tail()


# Concatenando os dataframes
df_thai = pd.concat([df, df_ant_abr22], axis=0, join='outer', ignore_index=True)


df_thai.shape


df_thai.isna().sum()


# Nulos preenchimento direto
df_thai[['situação', 'cardápio', 'forma_pag']] = df_thai[
    ['situação', 'cardápio', 'forma_pag']].fillna('Não informado')

df_thai[['sinal', 'valor_extra', 'preço_kids']] = df_thai[['sinal', 'valor_extra', 'preço_kids']].fillna(float(0))

df_thai[['kids', 'qtde_conv_final']] = df_thai[['kids', 'qtde_conv_final']].fillna(int(0))


df_thai['total_convidados'] = df_thai['num_convidados'] + df_thai['kids']


df_thai['valor_total'] = (df_thai['num_convidados'] * df_thai['preço']) + (df_thai['kids'] * df_thai['preço_kids']) + df_thai['valor_extra']


df_thai['saldo_restante'] = df_thai['valor_total'] - df_thai['sinal']


df_thai.shape


# limpando espaços, deixando todos os caracteres em caixa baixa e capitulando frases.
df_thai = df_thai.apply(lambda x: x.astype(str).str.strip().str.casefold().str.capitalize())


df_thai.etapa.unique()


df_thai.cardápio.unique()


# regex para any white space
regex_blank = re.compile(r'\s+', flags=re.MULTILINE)
# df_cliente['contato'] = df_cliente.contato.str.replace(regex_cliente, '', regex=True)

df_thai = df_thai.apply(lambda x: x.str.replace(regex_blank, ' ', regex=True))
df_thai.cardápio.unique()


regex_menu = re.compile(r'[Menu]{4}(\s)', flags=re.MULTILINE)
df_thai['cardápio'] = df_thai.cardápio.str.title().str.replace(regex_menu, '', regex=True)
df_thai.cardápio.unique()


df_thai['cardápio'] = 'Menu ' + df_thai.cardápio
df_thai.cardápio.unique()


df_thai.isnull().sum()


df_thai.etapa.unique()


df_thai.dtypes


df_thai['data_evento'] = pd.to_datetime(df_thai['data_evento'], errors='coerce')
df_thai['data_contato'] = pd.to_datetime(df_thai['data_contato'], errors='coerce')


df_thai.info()


df_thai = df_thai.sort_values('data_evento', ignore_index=True)


df_thai.tail()


df_thai.isna().sum()


df_thai.to_excel('./dados/df_thai_final.xlsx', index=False)
