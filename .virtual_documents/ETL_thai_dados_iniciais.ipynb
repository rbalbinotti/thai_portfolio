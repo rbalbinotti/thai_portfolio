import numpy as np
import pandas as pd
import re


# lendo arquivo excel com várias abas
caminho = r'./dados/rel_eventos.xlsx'

# None busca todas as abas da planilha
df_full = pd.read_excel(caminho, sheet_name=None)


# descobrindo os nomes das sheets
df_full.keys()


# lendo todas as 'sheets' do arquivo e salvando como dataframes unicos
df_antigo = pd.read_excel(caminho, sheet_name='Antigos Contatos', header=4)
df_2018 = pd.read_excel(caminho, sheet_name='2018', header=4)
df_2019 = pd.read_excel(caminho, sheet_name='2019', header=4)


df_2018.head()


# Padronização Columns
df_2018.columns = df_2018.columns.str.replace(' ', '_').str.lower()


# renomeia colunas

df_2018.rename(columns={
    'data_do_evento': 'data_evento',
    'data_do_contato': 'data_contato',
    'tipo_de_evento': 'tipo',
    'cliente': 'cliente',
    'contato': 'contato', 
    'valor_total': 'valor_total',
    'nº_de_pessoas': 'num_convidados',
    'observação': 'observação'},
    inplace=True)


df_2018.info()


df_2018[df_2018['data_evento'].str.contains('Total', na=False, regex=True, flags=re.IGNORECASE)]


# Eventos realizados
# df_2018['etapa']
df_2018.loc[0:33, :]


df_2018.insert(1, 'etapa', 'Não Informado')


# etapa = ['Realizado', 'Fechado', 'Em negociação', 'Não fechado']
for ind, key in enumerate(df_2018.values):
    if ind <= 33:
        df_2018['etapa'][ind] = 'Realizado'
    else: df_2018['etapa'][ind] = 'Não fechado'


df_2018['data_evento'] = pd.to_datetime(df_2018.data_evento, errors='coerce')
df_2018['data_contato'] = pd.to_datetime(df_2018['data_evento'], errors='coerce')


df_2018.isnull().shape


df_2018[df_2018['data_evento'].isnull()]


df_2018.dropna(subset=['data_evento', 'data_contato', 'tipo'], how='all', inplace=True)


df_2018.drop(labels=[39], inplace=True)


df_2018.isnull().sum()


df_2018[df_2018.num_convidados.isnull()]


df_2018['observação'].fillna('Não informado', inplace=True)


df_2018.iloc[22, :]


df_2018['valor_total'] = pd.to_numeric(df_2018.valor_total, errors='coerce')
df_2018['num_convidados'] = pd.to_numeric(df_2018.num_convidados, errors='coerce')


df_2018['preço'] = round(df_2018.valor_total / df_2018.num_convidados)


df_2018


df_2018.info()


convidados_median = round(df_2018.num_convidados.median())
preço_mean = round(df_2018.preço.mean())


df_2018.num_convidados.fillna(convidados_median, inplace=True)


df_2018.valor_total.fillna(preço_mean * convidados_median, inplace=True)


df_2018.preço.fillna(preço_mean, inplace=True)


df_2018.isnull().sum()


df_2018.dropna(inplace= True)


df_2018.shape


df_2019.columns = df_2019.columns.str.replace(' ','_').str.replace('Nº de Pessoas', 'num_convidados').str.lower()


df_2019.head()


df_2019.drop(['unnamed:_6'], axis=1, inplace=True)


# renomeia colunas

df_2019.rename(columns = {
    'data_do_evento': 'data_evento',
    'data_do_contato': 'data_contato',
    'tipo_de_evento': 'tipo',
    'cliente': 'cliente',
    'contato': 'contato', 
    'valor_total': 'valor_total',
    'nº_de_pessoas': 'num_convidados',
    'observação': 'observação'},
    inplace=True)


df_2019['data_evento'] = pd.to_datetime(df_2019['data_evento'], errors='coerce')
df_2019['data_contato'] = pd.to_datetime(df_2019['data_contato'], errors='coerce')
df_2019.valor_total = pd.to_numeric(df_2019.valor_total, errors='coerce')
df_2019.num_convidados = pd.to_numeric(df_2019.num_convidados, errors='coerce')


df_2019.isnull().sum()


df_2019.dropna(how='all',inplace=True)
df_2019.dropna(subset=['data_evento', 'data_contato'], how='all', inplace=True)
df_2019.data_evento.fillna(df_2019.data_contato, inplace=True)


df_2019[df_2019.tipo.isnull()]


df_2019['tipo'].fillna('Não informado', inplace=True)
df_2019['observação'].fillna('Não informado', inplace=True)


df_2019['data_contato'] = df_2019.data_contato.fillna(df_2019.data_evento)


df_2019.insert(1, 'etapa', 'Não informado')


# etapa = ['Realizado', 'Fechado', 'Em negociação', 'Não fechado']
for i, k in enumerate(df_2019.values):
    if i <= 109:
        df_2019.loc[i, 'etapa'] = 'Realizado'
    elif i <= 127:
        df_2019.loc[i, 'etapa'] = 'Fechado'
    elif i <= 145:
        df_2019.loc[i, 'etapa'] = 'Em negociação'
    else: df_2019.loc[i, 'etapa'] = 'Não fechado'


df_2019.info()


median_2019 = round(df_2019.valor_total.median())
convidados_2019 = round(df_2019.num_convidados.median())
df_2019['valor_total'] = df_2019.valor_total.fillna(median_2019)
df_2019['num_convidados'] = df_2019.num_convidados.fillna(convidados_2019)


df_2019['preço'] = np.nan


df_2019.preço.fillna(round(df_2019.valor_total / df_2019.num_convidados), inplace=True)


df_2019.isnull().sum()


df_2019.dropna(inplace= True)


df_mar = pd.read_excel(caminho, sheet_name='março', header=4)


df_mar


df_concat = pd.concat([df_2018, df_2019], join='outer', ignore_index=True)


df_concat.info()


df_concat['num_convidados'] = df_concat.num_convidados.astype('int8')


df_concat.sort_values('data_evento', ignore_index=True, inplace=True)


df_concat.head()


df_concat.shape


df_concat.to_excel(r'./dados/antes_abril_2022.xlsx', index=False)
